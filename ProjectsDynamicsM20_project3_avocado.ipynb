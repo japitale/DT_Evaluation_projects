{
 "cells": [
  {
   "cell_type": "code",
   "execution_count": 130,
   "metadata": {},
   "outputs": [],
   "source": [
    "import numpy as np\n",
    "import pandas as pd\n",
    "import sklearn\n",
    "import seaborn as sns\n",
    "import matplotlib.pyplot as plt\n",
    "from sklearn.linear_model import LinearRegression\n",
    "from sklearn.tree import DecisionTreeClassifier,DecisionTreeRegressor\n",
    "from sklearn.neighbors import KNeighborsClassifier,KNeighborsRegressor\n",
    "from sklearn.metrics import mean_squared_error, mean_absolute_error\n",
    "from sklearn.model_selection import train_test_split,cross_val_score,GridSearchCV\n",
    "from sklearn.metrics import accuracy_score,r2_score,confusion_matrix,classification_report\n",
    "import datetime"
   ]
  },
  {
   "cell_type": "code",
   "execution_count": 131,
   "metadata": {},
   "outputs": [],
   "source": [
    "raw_data = pd.read_csv(\"E:\\\\python\\\\avocado.csv\")"
   ]
  },
  {
   "cell_type": "code",
   "execution_count": 132,
   "metadata": {},
   "outputs": [
    {
     "data": {
      "text/html": [
       "<div>\n",
       "<style scoped>\n",
       "    .dataframe tbody tr th:only-of-type {\n",
       "        vertical-align: middle;\n",
       "    }\n",
       "\n",
       "    .dataframe tbody tr th {\n",
       "        vertical-align: top;\n",
       "    }\n",
       "\n",
       "    .dataframe thead th {\n",
       "        text-align: right;\n",
       "    }\n",
       "</style>\n",
       "<table border=\"1\" class=\"dataframe\">\n",
       "  <thead>\n",
       "    <tr style=\"text-align: right;\">\n",
       "      <th></th>\n",
       "      <th>Unnamed: 0</th>\n",
       "      <th>Date</th>\n",
       "      <th>AveragePrice</th>\n",
       "      <th>Total Volume</th>\n",
       "      <th>4046</th>\n",
       "      <th>4225</th>\n",
       "      <th>4770</th>\n",
       "      <th>Total Bags</th>\n",
       "      <th>Small Bags</th>\n",
       "      <th>Large Bags</th>\n",
       "      <th>XLarge Bags</th>\n",
       "      <th>type</th>\n",
       "      <th>year</th>\n",
       "      <th>region</th>\n",
       "    </tr>\n",
       "  </thead>\n",
       "  <tbody>\n",
       "    <tr>\n",
       "      <th>0</th>\n",
       "      <td>0</td>\n",
       "      <td>27-12-2015</td>\n",
       "      <td>1.33</td>\n",
       "      <td>64236.62</td>\n",
       "      <td>1036.74</td>\n",
       "      <td>54454.85</td>\n",
       "      <td>48.16</td>\n",
       "      <td>8696.87</td>\n",
       "      <td>8603.62</td>\n",
       "      <td>93.25</td>\n",
       "      <td>0.00</td>\n",
       "      <td>conventional</td>\n",
       "      <td>2015</td>\n",
       "      <td>Albany</td>\n",
       "    </tr>\n",
       "    <tr>\n",
       "      <th>1</th>\n",
       "      <td>1</td>\n",
       "      <td>20-12-2015</td>\n",
       "      <td>1.35</td>\n",
       "      <td>54876.98</td>\n",
       "      <td>674.28</td>\n",
       "      <td>44638.81</td>\n",
       "      <td>58.33</td>\n",
       "      <td>9505.56</td>\n",
       "      <td>9408.07</td>\n",
       "      <td>97.49</td>\n",
       "      <td>0.00</td>\n",
       "      <td>conventional</td>\n",
       "      <td>2015</td>\n",
       "      <td>Albany</td>\n",
       "    </tr>\n",
       "    <tr>\n",
       "      <th>2</th>\n",
       "      <td>2</td>\n",
       "      <td>13-12-2015</td>\n",
       "      <td>0.93</td>\n",
       "      <td>118220.22</td>\n",
       "      <td>794.70</td>\n",
       "      <td>109149.67</td>\n",
       "      <td>130.50</td>\n",
       "      <td>8145.35</td>\n",
       "      <td>8042.21</td>\n",
       "      <td>103.14</td>\n",
       "      <td>0.00</td>\n",
       "      <td>conventional</td>\n",
       "      <td>2015</td>\n",
       "      <td>Albany</td>\n",
       "    </tr>\n",
       "    <tr>\n",
       "      <th>3</th>\n",
       "      <td>3</td>\n",
       "      <td>06-12-2015</td>\n",
       "      <td>1.08</td>\n",
       "      <td>78992.15</td>\n",
       "      <td>1132.00</td>\n",
       "      <td>71976.41</td>\n",
       "      <td>72.58</td>\n",
       "      <td>5811.16</td>\n",
       "      <td>5677.40</td>\n",
       "      <td>133.76</td>\n",
       "      <td>0.00</td>\n",
       "      <td>conventional</td>\n",
       "      <td>2015</td>\n",
       "      <td>Albany</td>\n",
       "    </tr>\n",
       "    <tr>\n",
       "      <th>4</th>\n",
       "      <td>4</td>\n",
       "      <td>29-11-2015</td>\n",
       "      <td>1.28</td>\n",
       "      <td>51039.60</td>\n",
       "      <td>941.48</td>\n",
       "      <td>43838.39</td>\n",
       "      <td>75.78</td>\n",
       "      <td>6183.95</td>\n",
       "      <td>5986.26</td>\n",
       "      <td>197.69</td>\n",
       "      <td>0.00</td>\n",
       "      <td>conventional</td>\n",
       "      <td>2015</td>\n",
       "      <td>Albany</td>\n",
       "    </tr>\n",
       "    <tr>\n",
       "      <th>...</th>\n",
       "      <td>...</td>\n",
       "      <td>...</td>\n",
       "      <td>...</td>\n",
       "      <td>...</td>\n",
       "      <td>...</td>\n",
       "      <td>...</td>\n",
       "      <td>...</td>\n",
       "      <td>...</td>\n",
       "      <td>...</td>\n",
       "      <td>...</td>\n",
       "      <td>...</td>\n",
       "      <td>...</td>\n",
       "      <td>...</td>\n",
       "      <td>...</td>\n",
       "    </tr>\n",
       "    <tr>\n",
       "      <th>1512</th>\n",
       "      <td>10</td>\n",
       "      <td>16-10-2016</td>\n",
       "      <td>1.39</td>\n",
       "      <td>190846.01</td>\n",
       "      <td>57529.11</td>\n",
       "      <td>56366.66</td>\n",
       "      <td>17531.78</td>\n",
       "      <td>59418.46</td>\n",
       "      <td>48823.53</td>\n",
       "      <td>10354.65</td>\n",
       "      <td>240.28</td>\n",
       "      <td>conventional</td>\n",
       "      <td>2016</td>\n",
       "      <td>Charlotte</td>\n",
       "    </tr>\n",
       "    <tr>\n",
       "      <th>1513</th>\n",
       "      <td>11</td>\n",
       "      <td>09-10-2016</td>\n",
       "      <td>1.51</td>\n",
       "      <td>178235.75</td>\n",
       "      <td>43325.87</td>\n",
       "      <td>52189.61</td>\n",
       "      <td>19419.57</td>\n",
       "      <td>63300.70</td>\n",
       "      <td>54704.14</td>\n",
       "      <td>8596.56</td>\n",
       "      <td>0.00</td>\n",
       "      <td>conventional</td>\n",
       "      <td>2016</td>\n",
       "      <td>Charlotte</td>\n",
       "    </tr>\n",
       "    <tr>\n",
       "      <th>1514</th>\n",
       "      <td>12</td>\n",
       "      <td>02-10-2016</td>\n",
       "      <td>1.48</td>\n",
       "      <td>178410.82</td>\n",
       "      <td>46364.75</td>\n",
       "      <td>52893.38</td>\n",
       "      <td>16736.92</td>\n",
       "      <td>62415.77</td>\n",
       "      <td>53332.61</td>\n",
       "      <td>8258.16</td>\n",
       "      <td>825.00</td>\n",
       "      <td>conventional</td>\n",
       "      <td>2016</td>\n",
       "      <td>Charlotte</td>\n",
       "    </tr>\n",
       "    <tr>\n",
       "      <th>1515</th>\n",
       "      <td>13</td>\n",
       "      <td>25-09-2016</td>\n",
       "      <td>1.47</td>\n",
       "      <td>189131.52</td>\n",
       "      <td>54110.79</td>\n",
       "      <td>53593.58</td>\n",
       "      <td>17495.42</td>\n",
       "      <td>63931.73</td>\n",
       "      <td>55653.47</td>\n",
       "      <td>8278.26</td>\n",
       "      <td>0.00</td>\n",
       "      <td>conventional</td>\n",
       "      <td>2016</td>\n",
       "      <td>Charlotte</td>\n",
       "    </tr>\n",
       "    <tr>\n",
       "      <th>1516</th>\n",
       "      <td>14</td>\n",
       "      <td>18-09-2016</td>\n",
       "      <td>1.43</td>\n",
       "      <td>182978.30</td>\n",
       "      <td>43116.41</td>\n",
       "      <td>54193.42</td>\n",
       "      <td>16563.91</td>\n",
       "      <td>69104.56</td>\n",
       "      <td>57456.21</td>\n",
       "      <td>11648.35</td>\n",
       "      <td>0.00</td>\n",
       "      <td>conventional</td>\n",
       "      <td>2016</td>\n",
       "      <td>Charlotte</td>\n",
       "    </tr>\n",
       "  </tbody>\n",
       "</table>\n",
       "<p>1517 rows × 14 columns</p>\n",
       "</div>"
      ],
      "text/plain": [
       "      Unnamed: 0        Date  AveragePrice  Total Volume      4046       4225  \\\n",
       "0              0  27-12-2015          1.33      64236.62   1036.74   54454.85   \n",
       "1              1  20-12-2015          1.35      54876.98    674.28   44638.81   \n",
       "2              2  13-12-2015          0.93     118220.22    794.70  109149.67   \n",
       "3              3  06-12-2015          1.08      78992.15   1132.00   71976.41   \n",
       "4              4  29-11-2015          1.28      51039.60    941.48   43838.39   \n",
       "...          ...         ...           ...           ...       ...        ...   \n",
       "1512          10  16-10-2016          1.39     190846.01  57529.11   56366.66   \n",
       "1513          11  09-10-2016          1.51     178235.75  43325.87   52189.61   \n",
       "1514          12  02-10-2016          1.48     178410.82  46364.75   52893.38   \n",
       "1515          13  25-09-2016          1.47     189131.52  54110.79   53593.58   \n",
       "1516          14  18-09-2016          1.43     182978.30  43116.41   54193.42   \n",
       "\n",
       "          4770  Total Bags  Small Bags  Large Bags  XLarge Bags          type  \\\n",
       "0        48.16     8696.87     8603.62       93.25         0.00  conventional   \n",
       "1        58.33     9505.56     9408.07       97.49         0.00  conventional   \n",
       "2       130.50     8145.35     8042.21      103.14         0.00  conventional   \n",
       "3        72.58     5811.16     5677.40      133.76         0.00  conventional   \n",
       "4        75.78     6183.95     5986.26      197.69         0.00  conventional   \n",
       "...        ...         ...         ...         ...          ...           ...   \n",
       "1512  17531.78    59418.46    48823.53    10354.65       240.28  conventional   \n",
       "1513  19419.57    63300.70    54704.14     8596.56         0.00  conventional   \n",
       "1514  16736.92    62415.77    53332.61     8258.16       825.00  conventional   \n",
       "1515  17495.42    63931.73    55653.47     8278.26         0.00  conventional   \n",
       "1516  16563.91    69104.56    57456.21    11648.35         0.00  conventional   \n",
       "\n",
       "      year     region  \n",
       "0     2015     Albany  \n",
       "1     2015     Albany  \n",
       "2     2015     Albany  \n",
       "3     2015     Albany  \n",
       "4     2015     Albany  \n",
       "...    ...        ...  \n",
       "1512  2016  Charlotte  \n",
       "1513  2016  Charlotte  \n",
       "1514  2016  Charlotte  \n",
       "1515  2016  Charlotte  \n",
       "1516  2016  Charlotte  \n",
       "\n",
       "[1517 rows x 14 columns]"
      ]
     },
     "execution_count": 132,
     "metadata": {},
     "output_type": "execute_result"
    }
   ],
   "source": [
    "raw_data"
   ]
  },
  {
   "cell_type": "code",
   "execution_count": 133,
   "metadata": {},
   "outputs": [
    {
     "data": {
      "text/plain": [
       "Index(['Unnamed: 0', 'Date', 'AveragePrice', 'Total Volume', '4046', '4225',\n",
       "       '4770', 'Total Bags', 'Small Bags', 'Large Bags', 'XLarge Bags', 'type',\n",
       "       'year', 'region'],\n",
       "      dtype='object')"
      ]
     },
     "execution_count": 133,
     "metadata": {},
     "output_type": "execute_result"
    }
   ],
   "source": [
    "raw_data.columns"
   ]
  },
  {
   "cell_type": "code",
   "execution_count": 134,
   "metadata": {},
   "outputs": [],
   "source": [
    "raw_data.drop('Unnamed: 0',axis=1,inplace=True) # Here we are removing the 1st column which is just an index column."
   ]
  },
  {
   "cell_type": "code",
   "execution_count": 135,
   "metadata": {},
   "outputs": [
    {
     "data": {
      "text/plain": [
       "(1517, 13)"
      ]
     },
     "execution_count": 135,
     "metadata": {},
     "output_type": "execute_result"
    }
   ],
   "source": [
    "raw_data.shape"
   ]
  },
  {
   "cell_type": "code",
   "execution_count": 136,
   "metadata": {},
   "outputs": [
    {
     "data": {
      "text/plain": [
       "Date            0\n",
       "AveragePrice    0\n",
       "Total Volume    0\n",
       "4046            0\n",
       "4225            0\n",
       "4770            0\n",
       "Total Bags      0\n",
       "Small Bags      0\n",
       "Large Bags      0\n",
       "XLarge Bags     0\n",
       "type            0\n",
       "year            0\n",
       "region          0\n",
       "dtype: int64"
      ]
     },
     "execution_count": 136,
     "metadata": {},
     "output_type": "execute_result"
    }
   ],
   "source": [
    "raw_data.isnull().sum() # here we are checking for any null values in dataset"
   ]
  },
  {
   "cell_type": "code",
   "execution_count": 137,
   "metadata": {},
   "outputs": [
    {
     "data": {
      "text/plain": [
       "<AxesSubplot:>"
      ]
     },
     "execution_count": 137,
     "metadata": {},
     "output_type": "execute_result"
    },
    {
     "data": {
      "image/png": "[encoded data removed]",
      "text/plain": [
       "<Figure size 432x288 with 2 Axes>"
      ]
     },
     "metadata": {
      "needs_background": "light"
     },
     "output_type": "display_data"
    }
   ],
   "source": [
    "sns.heatmap(raw_data.isnull()) # heatmap also indicates that there are no null values in dataset."
   ]
  },
  {
   "cell_type": "code",
   "execution_count": 138,
   "metadata": {},
   "outputs": [
    {
     "data": {
      "text/plain": [
       "Date             object\n",
       "AveragePrice    float64\n",
       "Total Volume    float64\n",
       "4046            float64\n",
       "4225            float64\n",
       "4770            float64\n",
       "Total Bags      float64\n",
       "Small Bags      float64\n",
       "Large Bags      float64\n",
       "XLarge Bags     float64\n",
       "type             object\n",
       "year              int64\n",
       "region           object\n",
       "dtype: object"
      ]
     },
     "execution_count": 138,
     "metadata": {},
     "output_type": "execute_result"
    }
   ],
   "source": [
    "raw_data.dtypes"
   ]
  },
  {
   "cell_type": "code",
   "execution_count": 139,
   "metadata": {},
   "outputs": [
    {
     "data": {
      "text/plain": [
       "array(['conventional'], dtype=object)"
      ]
     },
     "execution_count": 139,
     "metadata": {},
     "output_type": "execute_result"
    }
   ],
   "source": [
    "raw_data['type'].unique() # from here we can confirm that there is only 1 type of avocado present in dataset.   "
   ]
  },
  {
   "cell_type": "code",
   "execution_count": 140,
   "metadata": {},
   "outputs": [
    {
     "data": {
      "text/html": [
       "<div>\n",
       "<style scoped>\n",
       "    .dataframe tbody tr th:only-of-type {\n",
       "        vertical-align: middle;\n",
       "    }\n",
       "\n",
       "    .dataframe tbody tr th {\n",
       "        vertical-align: top;\n",
       "    }\n",
       "\n",
       "    .dataframe thead th {\n",
       "        text-align: right;\n",
       "    }\n",
       "</style>\n",
       "<table border=\"1\" class=\"dataframe\">\n",
       "  <thead>\n",
       "    <tr style=\"text-align: right;\">\n",
       "      <th></th>\n",
       "      <th>Date</th>\n",
       "      <th>AveragePrice</th>\n",
       "      <th>Total Volume</th>\n",
       "      <th>4046</th>\n",
       "      <th>4225</th>\n",
       "      <th>4770</th>\n",
       "      <th>Total Bags</th>\n",
       "      <th>Small Bags</th>\n",
       "      <th>Large Bags</th>\n",
       "      <th>XLarge Bags</th>\n",
       "      <th>type</th>\n",
       "      <th>year</th>\n",
       "      <th>region</th>\n",
       "    </tr>\n",
       "  </thead>\n",
       "  <tbody>\n",
       "    <tr>\n",
       "      <th>0</th>\n",
       "      <td>27-12-2015</td>\n",
       "      <td>1.33</td>\n",
       "      <td>64236.62</td>\n",
       "      <td>1036.74</td>\n",
       "      <td>54454.85</td>\n",
       "      <td>48.16</td>\n",
       "      <td>8696.87</td>\n",
       "      <td>8603.62</td>\n",
       "      <td>93.25</td>\n",
       "      <td>0.00</td>\n",
       "      <td>0</td>\n",
       "      <td>2015</td>\n",
       "      <td>0</td>\n",
       "    </tr>\n",
       "    <tr>\n",
       "      <th>1</th>\n",
       "      <td>20-12-2015</td>\n",
       "      <td>1.35</td>\n",
       "      <td>54876.98</td>\n",
       "      <td>674.28</td>\n",
       "      <td>44638.81</td>\n",
       "      <td>58.33</td>\n",
       "      <td>9505.56</td>\n",
       "      <td>9408.07</td>\n",
       "      <td>97.49</td>\n",
       "      <td>0.00</td>\n",
       "      <td>0</td>\n",
       "      <td>2015</td>\n",
       "      <td>0</td>\n",
       "    </tr>\n",
       "    <tr>\n",
       "      <th>2</th>\n",
       "      <td>13-12-2015</td>\n",
       "      <td>0.93</td>\n",
       "      <td>118220.22</td>\n",
       "      <td>794.70</td>\n",
       "      <td>109149.67</td>\n",
       "      <td>130.50</td>\n",
       "      <td>8145.35</td>\n",
       "      <td>8042.21</td>\n",
       "      <td>103.14</td>\n",
       "      <td>0.00</td>\n",
       "      <td>0</td>\n",
       "      <td>2015</td>\n",
       "      <td>0</td>\n",
       "    </tr>\n",
       "    <tr>\n",
       "      <th>3</th>\n",
       "      <td>06-12-2015</td>\n",
       "      <td>1.08</td>\n",
       "      <td>78992.15</td>\n",
       "      <td>1132.00</td>\n",
       "      <td>71976.41</td>\n",
       "      <td>72.58</td>\n",
       "      <td>5811.16</td>\n",
       "      <td>5677.40</td>\n",
       "      <td>133.76</td>\n",
       "      <td>0.00</td>\n",
       "      <td>0</td>\n",
       "      <td>2015</td>\n",
       "      <td>0</td>\n",
       "    </tr>\n",
       "    <tr>\n",
       "      <th>4</th>\n",
       "      <td>29-11-2015</td>\n",
       "      <td>1.28</td>\n",
       "      <td>51039.60</td>\n",
       "      <td>941.48</td>\n",
       "      <td>43838.39</td>\n",
       "      <td>75.78</td>\n",
       "      <td>6183.95</td>\n",
       "      <td>5986.26</td>\n",
       "      <td>197.69</td>\n",
       "      <td>0.00</td>\n",
       "      <td>0</td>\n",
       "      <td>2015</td>\n",
       "      <td>0</td>\n",
       "    </tr>\n",
       "    <tr>\n",
       "      <th>...</th>\n",
       "      <td>...</td>\n",
       "      <td>...</td>\n",
       "      <td>...</td>\n",
       "      <td>...</td>\n",
       "      <td>...</td>\n",
       "      <td>...</td>\n",
       "      <td>...</td>\n",
       "      <td>...</td>\n",
       "      <td>...</td>\n",
       "      <td>...</td>\n",
       "      <td>...</td>\n",
       "      <td>...</td>\n",
       "      <td>...</td>\n",
       "    </tr>\n",
       "    <tr>\n",
       "      <th>1512</th>\n",
       "      <td>16-10-2016</td>\n",
       "      <td>1.39</td>\n",
       "      <td>190846.01</td>\n",
       "      <td>57529.11</td>\n",
       "      <td>56366.66</td>\n",
       "      <td>17531.78</td>\n",
       "      <td>59418.46</td>\n",
       "      <td>48823.53</td>\n",
       "      <td>10354.65</td>\n",
       "      <td>240.28</td>\n",
       "      <td>0</td>\n",
       "      <td>2016</td>\n",
       "      <td>7</td>\n",
       "    </tr>\n",
       "    <tr>\n",
       "      <th>1513</th>\n",
       "      <td>09-10-2016</td>\n",
       "      <td>1.51</td>\n",
       "      <td>178235.75</td>\n",
       "      <td>43325.87</td>\n",
       "      <td>52189.61</td>\n",
       "      <td>19419.57</td>\n",
       "      <td>63300.70</td>\n",
       "      <td>54704.14</td>\n",
       "      <td>8596.56</td>\n",
       "      <td>0.00</td>\n",
       "      <td>0</td>\n",
       "      <td>2016</td>\n",
       "      <td>7</td>\n",
       "    </tr>\n",
       "    <tr>\n",
       "      <th>1514</th>\n",
       "      <td>02-10-2016</td>\n",
       "      <td>1.48</td>\n",
       "      <td>178410.82</td>\n",
       "      <td>46364.75</td>\n",
       "      <td>52893.38</td>\n",
       "      <td>16736.92</td>\n",
       "      <td>62415.77</td>\n",
       "      <td>53332.61</td>\n",
       "      <td>8258.16</td>\n",
       "      <td>825.00</td>\n",
       "      <td>0</td>\n",
       "      <td>2016</td>\n",
       "      <td>7</td>\n",
       "    </tr>\n",
       "    <tr>\n",
       "      <th>1515</th>\n",
       "      <td>25-09-2016</td>\n",
       "      <td>1.47</td>\n",
       "      <td>189131.52</td>\n",
       "      <td>54110.79</td>\n",
       "      <td>53593.58</td>\n",
       "      <td>17495.42</td>\n",
       "      <td>63931.73</td>\n",
       "      <td>55653.47</td>\n",
       "      <td>8278.26</td>\n",
       "      <td>0.00</td>\n",
       "      <td>0</td>\n",
       "      <td>2016</td>\n",
       "      <td>7</td>\n",
       "    </tr>\n",
       "    <tr>\n",
       "      <th>1516</th>\n",
       "      <td>18-09-2016</td>\n",
       "      <td>1.43</td>\n",
       "      <td>182978.30</td>\n",
       "      <td>43116.41</td>\n",
       "      <td>54193.42</td>\n",
       "      <td>16563.91</td>\n",
       "      <td>69104.56</td>\n",
       "      <td>57456.21</td>\n",
       "      <td>11648.35</td>\n",
       "      <td>0.00</td>\n",
       "      <td>0</td>\n",
       "      <td>2016</td>\n",
       "      <td>7</td>\n",
       "    </tr>\n",
       "  </tbody>\n",
       "</table>\n",
       "<p>1517 rows × 13 columns</p>\n",
       "</div>"
      ],
      "text/plain": [
       "            Date  AveragePrice  Total Volume      4046       4225      4770  \\\n",
       "0     27-12-2015          1.33      64236.62   1036.74   54454.85     48.16   \n",
       "1     20-12-2015          1.35      54876.98    674.28   44638.81     58.33   \n",
       "2     13-12-2015          0.93     118220.22    794.70  109149.67    130.50   \n",
       "3     06-12-2015          1.08      78992.15   1132.00   71976.41     72.58   \n",
       "4     29-11-2015          1.28      51039.60    941.48   43838.39     75.78   \n",
       "...          ...           ...           ...       ...        ...       ...   \n",
       "1512  16-10-2016          1.39     190846.01  57529.11   56366.66  17531.78   \n",
       "1513  09-10-2016          1.51     178235.75  43325.87   52189.61  19419.57   \n",
       "1514  02-10-2016          1.48     178410.82  46364.75   52893.38  16736.92   \n",
       "1515  25-09-2016          1.47     189131.52  54110.79   53593.58  17495.42   \n",
       "1516  18-09-2016          1.43     182978.30  43116.41   54193.42  16563.91   \n",
       "\n",
       "      Total Bags  Small Bags  Large Bags  XLarge Bags  type  year  region  \n",
       "0        8696.87     8603.62       93.25         0.00     0  2015       0  \n",
       "1        9505.56     9408.07       97.49         0.00     0  2015       0  \n",
       "2        8145.35     8042.21      103.14         0.00     0  2015       0  \n",
       "3        5811.16     5677.40      133.76         0.00     0  2015       0  \n",
       "4        6183.95     5986.26      197.69         0.00     0  2015       0  \n",
       "...          ...         ...         ...          ...   ...   ...     ...  \n",
       "1512    59418.46    48823.53    10354.65       240.28     0  2016       7  \n",
       "1513    63300.70    54704.14     8596.56         0.00     0  2016       7  \n",
       "1514    62415.77    53332.61     8258.16       825.00     0  2016       7  \n",
       "1515    63931.73    55653.47     8278.26         0.00     0  2016       7  \n",
       "1516    69104.56    57456.21    11648.35         0.00     0  2016       7  \n",
       "\n",
       "[1517 rows x 13 columns]"
      ]
     },
     "execution_count": 140,
     "metadata": {},
     "output_type": "execute_result"
    }
   ],
   "source": [
    "#since machine learning requires data to be in numerical format for model building, we are converting / encoding columns 'type' \n",
    "#and 'region' into numerical format. \n",
    "from sklearn.preprocessing import LabelEncoder\n",
    "le=LabelEncoder()\n",
    "raw_data['type']=le.fit_transform(raw_data['type'])\n",
    "raw_data['region']=le.fit_transform(raw_data['region'])\n",
    "raw_data"
   ]
  },
  {
   "cell_type": "code",
   "execution_count": 141,
   "metadata": {},
   "outputs": [
    {
     "name": "stdout",
     "output_type": "stream",
     "text": [
      "Total number of entries in column 'XLarge Bags' with value 0.00 is: 798\n"
     ]
    }
   ],
   "source": [
    "count = 0\n",
    "for i in raw_data['XLarge Bags']:\n",
    "    if i == 0.00:\n",
    "        count +=1\n",
    "print(\"Total number of entries in column \\'XLarge Bags\\' with value 0.00 is:\", count)        "
   ]
  },
  {
   "cell_type": "code",
   "execution_count": 142,
   "metadata": {},
   "outputs": [],
   "source": [
    "# Here was can see that more than 50% of entries in column 'XLarge Bags' is having 0 value, we need to work on this column."
   ]
  },
  {
   "cell_type": "code",
   "execution_count": 143,
   "metadata": {},
   "outputs": [
    {
     "data": {
      "text/plain": [
       "array([ 0,  1,  2,  3,  4,  5,  6,  7,  8,  9, 10, 11, 12, 13, 14, 15, 16,\n",
       "       17, 18, 19, 20, 21, 22, 23, 24, 25, 26, 27, 28, 29, 30, 31, 32, 33,\n",
       "       34, 35, 36, 37, 38, 39, 40, 41, 42, 43, 44, 45, 46, 47, 48, 49, 50])"
      ]
     },
     "execution_count": 143,
     "metadata": {},
     "output_type": "execute_result"
    }
   ],
   "source": [
    "raw_data['region'].unique()"
   ]
  },
  {
   "cell_type": "code",
   "execution_count": 144,
   "metadata": {},
   "outputs": [
    {
     "data": {
      "text/html": [
       "<div>\n",
       "<style scoped>\n",
       "    .dataframe tbody tr th:only-of-type {\n",
       "        vertical-align: middle;\n",
       "    }\n",
       "\n",
       "    .dataframe tbody tr th {\n",
       "        vertical-align: top;\n",
       "    }\n",
       "\n",
       "    .dataframe thead th {\n",
       "        text-align: right;\n",
       "    }\n",
       "</style>\n",
       "<table border=\"1\" class=\"dataframe\">\n",
       "  <thead>\n",
       "    <tr style=\"text-align: right;\">\n",
       "      <th></th>\n",
       "      <th>AveragePrice</th>\n",
       "      <th>Total Volume</th>\n",
       "      <th>4046</th>\n",
       "      <th>4225</th>\n",
       "      <th>4770</th>\n",
       "      <th>Total Bags</th>\n",
       "      <th>Small Bags</th>\n",
       "      <th>Large Bags</th>\n",
       "      <th>XLarge Bags</th>\n",
       "      <th>type</th>\n",
       "      <th>year</th>\n",
       "      <th>region</th>\n",
       "    </tr>\n",
       "  </thead>\n",
       "  <tbody>\n",
       "    <tr>\n",
       "      <th>count</th>\n",
       "      <td>1517.000000</td>\n",
       "      <td>1.517000e+03</td>\n",
       "      <td>1.517000e+03</td>\n",
       "      <td>1.517000e+03</td>\n",
       "      <td>1.517000e+03</td>\n",
       "      <td>1.517000e+03</td>\n",
       "      <td>1.517000e+03</td>\n",
       "      <td>1.517000e+03</td>\n",
       "      <td>1517.000000</td>\n",
       "      <td>1517.0</td>\n",
       "      <td>1517.000000</td>\n",
       "      <td>1517.000000</td>\n",
       "    </tr>\n",
       "    <tr>\n",
       "      <th>mean</th>\n",
       "      <td>1.074990</td>\n",
       "      <td>1.601879e+06</td>\n",
       "      <td>6.464387e+05</td>\n",
       "      <td>6.114375e+05</td>\n",
       "      <td>5.040550e+04</td>\n",
       "      <td>2.935974e+05</td>\n",
       "      <td>2.487736e+05</td>\n",
       "      <td>4.264205e+04</td>\n",
       "      <td>2181.771074</td>\n",
       "      <td>0.0</td>\n",
       "      <td>2015.162821</td>\n",
       "      <td>21.196440</td>\n",
       "    </tr>\n",
       "    <tr>\n",
       "      <th>std</th>\n",
       "      <td>0.188891</td>\n",
       "      <td>4.433143e+06</td>\n",
       "      <td>1.947614e+06</td>\n",
       "      <td>1.672906e+06</td>\n",
       "      <td>1.377812e+05</td>\n",
       "      <td>7.579765e+05</td>\n",
       "      <td>6.474765e+05</td>\n",
       "      <td>1.182157e+05</td>\n",
       "      <td>7455.712144</td>\n",
       "      <td>0.0</td>\n",
       "      <td>0.369324</td>\n",
       "      <td>16.132398</td>\n",
       "    </tr>\n",
       "    <tr>\n",
       "      <th>min</th>\n",
       "      <td>0.490000</td>\n",
       "      <td>3.875074e+04</td>\n",
       "      <td>4.677200e+02</td>\n",
       "      <td>1.783770e+03</td>\n",
       "      <td>0.000000e+00</td>\n",
       "      <td>3.311770e+03</td>\n",
       "      <td>3.311770e+03</td>\n",
       "      <td>0.000000e+00</td>\n",
       "      <td>0.000000</td>\n",
       "      <td>0.0</td>\n",
       "      <td>2015.000000</td>\n",
       "      <td>0.000000</td>\n",
       "    </tr>\n",
       "    <tr>\n",
       "      <th>25%</th>\n",
       "      <td>0.980000</td>\n",
       "      <td>1.474700e+05</td>\n",
       "      <td>2.040034e+04</td>\n",
       "      <td>4.147606e+04</td>\n",
       "      <td>9.112500e+02</td>\n",
       "      <td>3.620689e+04</td>\n",
       "      <td>2.972722e+04</td>\n",
       "      <td>5.407400e+02</td>\n",
       "      <td>0.000000</td>\n",
       "      <td>0.0</td>\n",
       "      <td>2015.000000</td>\n",
       "      <td>6.000000</td>\n",
       "    </tr>\n",
       "    <tr>\n",
       "      <th>50%</th>\n",
       "      <td>1.080000</td>\n",
       "      <td>4.027919e+05</td>\n",
       "      <td>8.175117e+04</td>\n",
       "      <td>1.186649e+05</td>\n",
       "      <td>7.688170e+03</td>\n",
       "      <td>7.397906e+04</td>\n",
       "      <td>6.237569e+04</td>\n",
       "      <td>5.044350e+03</td>\n",
       "      <td>0.000000</td>\n",
       "      <td>0.0</td>\n",
       "      <td>2015.000000</td>\n",
       "      <td>19.000000</td>\n",
       "    </tr>\n",
       "    <tr>\n",
       "      <th>75%</th>\n",
       "      <td>1.190000</td>\n",
       "      <td>9.819751e+05</td>\n",
       "      <td>3.775785e+05</td>\n",
       "      <td>4.851503e+05</td>\n",
       "      <td>2.916730e+04</td>\n",
       "      <td>1.576097e+05</td>\n",
       "      <td>1.461994e+05</td>\n",
       "      <td>2.926767e+04</td>\n",
       "      <td>401.480000</td>\n",
       "      <td>0.0</td>\n",
       "      <td>2015.000000</td>\n",
       "      <td>35.000000</td>\n",
       "    </tr>\n",
       "    <tr>\n",
       "      <th>max</th>\n",
       "      <td>1.680000</td>\n",
       "      <td>4.465546e+07</td>\n",
       "      <td>1.893304e+07</td>\n",
       "      <td>1.895648e+07</td>\n",
       "      <td>1.381516e+06</td>\n",
       "      <td>6.736304e+06</td>\n",
       "      <td>5.893642e+06</td>\n",
       "      <td>1.121076e+06</td>\n",
       "      <td>108072.790000</td>\n",
       "      <td>0.0</td>\n",
       "      <td>2016.000000</td>\n",
       "      <td>50.000000</td>\n",
       "    </tr>\n",
       "  </tbody>\n",
       "</table>\n",
       "</div>"
      ],
      "text/plain": [
       "       AveragePrice  Total Volume          4046          4225          4770  \\\n",
       "count   1517.000000  1.517000e+03  1.517000e+03  1.517000e+03  1.517000e+03   \n",
       "mean       1.074990  1.601879e+06  6.464387e+05  6.114375e+05  5.040550e+04   \n",
       "std        0.188891  4.433143e+06  1.947614e+06  1.672906e+06  1.377812e+05   \n",
       "min        0.490000  3.875074e+04  4.677200e+02  1.783770e+03  0.000000e+00   \n",
       "25%        0.980000  1.474700e+05  2.040034e+04  4.147606e+04  9.112500e+02   \n",
       "50%        1.080000  4.027919e+05  8.175117e+04  1.186649e+05  7.688170e+03   \n",
       "75%        1.190000  9.819751e+05  3.775785e+05  4.851503e+05  2.916730e+04   \n",
       "max        1.680000  4.465546e+07  1.893304e+07  1.895648e+07  1.381516e+06   \n",
       "\n",
       "         Total Bags    Small Bags    Large Bags    XLarge Bags    type  \\\n",
       "count  1.517000e+03  1.517000e+03  1.517000e+03    1517.000000  1517.0   \n",
       "mean   2.935974e+05  2.487736e+05  4.264205e+04    2181.771074     0.0   \n",
       "std    7.579765e+05  6.474765e+05  1.182157e+05    7455.712144     0.0   \n",
       "min    3.311770e+03  3.311770e+03  0.000000e+00       0.000000     0.0   \n",
       "25%    3.620689e+04  2.972722e+04  5.407400e+02       0.000000     0.0   \n",
       "50%    7.397906e+04  6.237569e+04  5.044350e+03       0.000000     0.0   \n",
       "75%    1.576097e+05  1.461994e+05  2.926767e+04     401.480000     0.0   \n",
       "max    6.736304e+06  5.893642e+06  1.121076e+06  108072.790000     0.0   \n",
       "\n",
       "              year       region  \n",
       "count  1517.000000  1517.000000  \n",
       "mean   2015.162821    21.196440  \n",
       "std       0.369324    16.132398  \n",
       "min    2015.000000     0.000000  \n",
       "25%    2015.000000     6.000000  \n",
       "50%    2015.000000    19.000000  \n",
       "75%    2015.000000    35.000000  \n",
       "max    2016.000000    50.000000  "
      ]
     },
     "execution_count": 144,
     "metadata": {},
     "output_type": "execute_result"
    }
   ],
   "source": [
    "raw_data.describe()"
   ]
  },
  {
   "cell_type": "code",
   "execution_count": 145,
   "metadata": {},
   "outputs": [],
   "source": [
    "#Here we can see that for many columns ther is quite difference between mean and 50% value which will need to be worked upon\n",
    "#for better preductions.\n",
    "#We can see difference/gap between max value and 75precentile value in most of the columns which indicates that there are \n",
    "#outliers present in dataset.\n",
    "\n",
    "#Column 'XLarge Bags' has the highest difference between max and 75percentile. Also raw data analysis reveal that there are\n",
    "#797 entries with value 0.00 in this column which is more than 50% of total entries. Even mean, std, min and max values of this\n",
    "#column does not provide concrete values which we can use to replace 0.00 values with it.\n",
    "#We will need to check whether do we need to use this column in model building process or not as it have impact on performance \n",
    "#of the model.\n",
    "\n",
    "#Std deviation and mean has a big difference in all the columns. Will need to work on it for a good model.\n",
    "#In column '4046', we can see difference between 25% and 50% is highest.\n"
   ]
  },
  {
   "cell_type": "code",
   "execution_count": 146,
   "metadata": {},
   "outputs": [
    {
     "data": {
      "text/plain": [
       "year  type\n",
       "2015  0       1270\n",
       "2016  0        247\n",
       "Name: type, dtype: int64"
      ]
     },
     "execution_count": 146,
     "metadata": {},
     "output_type": "execute_result"
    }
   ],
   "source": [
    "raw_data.groupby('year')['type'].value_counts() # here we are checking year wise sale of avocado \n",
    "#and can see that in 2015 sale of avocado was more than 5 times than that in 2016."
   ]
  },
  {
   "cell_type": "code",
   "execution_count": 147,
   "metadata": {},
   "outputs": [
    {
     "data": {
      "text/plain": [
       "<AxesSubplot:xlabel='year', ylabel='AveragePrice'>"
      ]
     },
     "execution_count": 147,
     "metadata": {},
     "output_type": "execute_result"
    },
    {
     "data": {
      "image/png": "[encoded data removed]",
      "text/plain": [
       "<Figure size 432x288 with 1 Axes>"
      ]
     },
     "metadata": {
      "needs_background": "light"
     },
     "output_type": "display_data"
    }
   ],
   "source": [
    "sns.barplot(x='year', y='AveragePrice', data=raw_data)"
   ]
  },
  {
   "cell_type": "code",
   "execution_count": 148,
   "metadata": {},
   "outputs": [],
   "source": [
    "#from above barplot graph and checking year wise sale of avocado, we can say that since avocado was cheaper in 2015 than in 2016\n",
    "# sale in year 2015 was more."
   ]
  },
  {
   "cell_type": "code",
   "execution_count": 149,
   "metadata": {},
   "outputs": [
    {
     "data": {
      "text/plain": [
       "'01-02-2015'"
      ]
     },
     "execution_count": 149,
     "metadata": {},
     "output_type": "execute_result"
    }
   ],
   "source": [
    "raw_data['Date'].min()"
   ]
  },
  {
   "cell_type": "code",
   "execution_count": 150,
   "metadata": {},
   "outputs": [],
   "source": [
    "raw_data['Date'] = pd.to_datetime(raw_data['Date'])"
   ]
  },
  {
   "cell_type": "code",
   "execution_count": 151,
   "metadata": {},
   "outputs": [],
   "source": [
    "dt1 = raw_data['Date'].min()\n",
    "raw_data['Date'] = (raw_data['Date']-dt1).dt.days"
   ]
  },
  {
   "cell_type": "code",
   "execution_count": 152,
   "metadata": {},
   "outputs": [
    {
     "data": {
      "text/plain": [
       "Date              int64\n",
       "AveragePrice    float64\n",
       "Total Volume    float64\n",
       "4046            float64\n",
       "4225            float64\n",
       "4770            float64\n",
       "Total Bags      float64\n",
       "Small Bags      float64\n",
       "Large Bags      float64\n",
       "XLarge Bags     float64\n",
       "type              int32\n",
       "year              int64\n",
       "region            int32\n",
       "dtype: object"
      ]
     },
     "execution_count": 152,
     "metadata": {},
     "output_type": "execute_result"
    }
   ],
   "source": [
    "raw_data.dtypes"
   ]
  },
  {
   "cell_type": "code",
   "execution_count": 153,
   "metadata": {},
   "outputs": [
    {
     "data": {
      "text/plain": [
       "0       359\n",
       "1       352\n",
       "2       345\n",
       "3       161\n",
       "4       331\n",
       "       ... \n",
       "1512    653\n",
       "1513    617\n",
       "1514    404\n",
       "1515    632\n",
       "1516    625\n",
       "Name: Date, Length: 1517, dtype: int64"
      ]
     },
     "execution_count": 153,
     "metadata": {},
     "output_type": "execute_result"
    }
   ],
   "source": [
    "raw_data['Date']"
   ]
  },
  {
   "cell_type": "code",
   "execution_count": 154,
   "metadata": {},
   "outputs": [
    {
     "data": {
      "text/plain": [
       "Date               AxesSubplot(0.125,0.536818;0.0945122x0.343182)\n",
       "AveragePrice    AxesSubplot(0.238415,0.536818;0.0945122x0.343182)\n",
       "Total Volume    AxesSubplot(0.351829,0.536818;0.0945122x0.343182)\n",
       "4046            AxesSubplot(0.465244,0.536818;0.0945122x0.343182)\n",
       "4225            AxesSubplot(0.578659,0.536818;0.0945122x0.343182)\n",
       "4770            AxesSubplot(0.692073,0.536818;0.0945122x0.343182)\n",
       "Total Bags      AxesSubplot(0.805488,0.536818;0.0945122x0.343182)\n",
       "Small Bags            AxesSubplot(0.125,0.125;0.0945122x0.343182)\n",
       "Large Bags         AxesSubplot(0.238415,0.125;0.0945122x0.343182)\n",
       "XLarge Bags        AxesSubplot(0.351829,0.125;0.0945122x0.343182)\n",
       "type               AxesSubplot(0.465244,0.125;0.0945122x0.343182)\n",
       "year               AxesSubplot(0.578659,0.125;0.0945122x0.343182)\n",
       "region             AxesSubplot(0.692073,0.125;0.0945122x0.343182)\n",
       "dtype: object"
      ]
     },
     "execution_count": 154,
     "metadata": {},
     "output_type": "execute_result"
    },
    {
     "data": {
      "image/png": "[encoded data removed]",
      "text/plain": [
       "<Figure size 720x720 with 14 Axes>"
      ]
     },
     "metadata": {
      "needs_background": "light"
     },
     "output_type": "display_data"
    }
   ],
   "source": [
    "raw_data.plot(kind='box',subplots=True,layout=(2,7),figsize=(10,10))"
   ]
  },
  {
   "cell_type": "code",
   "execution_count": 155,
   "metadata": {},
   "outputs": [],
   "source": [
    "raw_data.drop('type',axis=1,inplace=True)\n",
    "raw_data.drop('XLarge Bags',axis=1,inplace=True)\n",
    "#Here we are dropping column 'type' as there is only 1 type of avocado in dataset.\n",
    "#We are dropping column 'XLarge Bags' as most of the entries in this column is 0.00 and will impact the performance of model."
   ]
  },
  {
   "cell_type": "code",
   "execution_count": 156,
   "metadata": {},
   "outputs": [
    {
     "data": {
      "text/plain": [
       "(1517, 11)"
      ]
     },
     "execution_count": 156,
     "metadata": {},
     "output_type": "execute_result"
    }
   ],
   "source": [
    "raw_data.shape"
   ]
  },
  {
   "cell_type": "code",
   "execution_count": 157,
   "metadata": {},
   "outputs": [
    {
     "name": "stdout",
     "output_type": "stream",
     "text": [
      "Date               224.00\n",
      "AveragePrice         0.21\n",
      "Total Volume    834505.09\n",
      "4046            357178.14\n",
      "4225            443674.28\n",
      "4770             28256.05\n",
      "Total Bags      121402.79\n",
      "Small Bags      116472.13\n",
      "Large Bags       28726.93\n",
      "year                 0.00\n",
      "region              29.00\n",
      "dtype: float64\n"
     ]
    }
   ],
   "source": [
    "Q1=raw_data.quantile(0.25)\n",
    "Q3=raw_data.quantile(0.75)\n",
    "IQR=Q3-Q1\n",
    "print(IQR)"
   ]
  },
  {
   "cell_type": "code",
   "execution_count": 158,
   "metadata": {},
   "outputs": [
    {
     "name": "stdout",
     "output_type": "stream",
     "text": [
      "       Date  AveragePrice  Total Volume   4046   4225   4770  Total Bags  \\\n",
      "0     False         False         False  False  False  False       False   \n",
      "1     False         False         False  False  False  False       False   \n",
      "2     False         False         False  False  False  False       False   \n",
      "3     False         False         False  False  False  False       False   \n",
      "4     False         False         False  False  False  False       False   \n",
      "...     ...           ...           ...    ...    ...    ...         ...   \n",
      "1512  False         False         False  False  False  False       False   \n",
      "1513  False         False         False  False  False  False       False   \n",
      "1514  False         False         False  False  False  False       False   \n",
      "1515  False         False         False  False  False  False       False   \n",
      "1516  False         False         False  False  False  False       False   \n",
      "\n",
      "      Small Bags  Large Bags   year  region  \n",
      "0          False       False  False   False  \n",
      "1          False       False  False   False  \n",
      "2          False       False  False   False  \n",
      "3          False       False  False   False  \n",
      "4          False       False  False   False  \n",
      "...          ...         ...    ...     ...  \n",
      "1512       False       False  False   False  \n",
      "1513       False       False  False   False  \n",
      "1514       False       False  False   False  \n",
      "1515       False       False  False   False  \n",
      "1516       False       False  False   False  \n",
      "\n",
      "[1517 rows x 11 columns]\n"
     ]
    },
    {
     "data": {
      "text/html": [
       "<div>\n",
       "<style scoped>\n",
       "    .dataframe tbody tr th:only-of-type {\n",
       "        vertical-align: middle;\n",
       "    }\n",
       "\n",
       "    .dataframe tbody tr th {\n",
       "        vertical-align: top;\n",
       "    }\n",
       "\n",
       "    .dataframe thead th {\n",
       "        text-align: right;\n",
       "    }\n",
       "</style>\n",
       "<table border=\"1\" class=\"dataframe\">\n",
       "  <thead>\n",
       "    <tr style=\"text-align: right;\">\n",
       "      <th></th>\n",
       "      <th>Date</th>\n",
       "      <th>AveragePrice</th>\n",
       "      <th>Total Volume</th>\n",
       "      <th>4046</th>\n",
       "      <th>4225</th>\n",
       "      <th>4770</th>\n",
       "      <th>Total Bags</th>\n",
       "      <th>Small Bags</th>\n",
       "      <th>Large Bags</th>\n",
       "      <th>year</th>\n",
       "      <th>region</th>\n",
       "    </tr>\n",
       "  </thead>\n",
       "  <tbody>\n",
       "    <tr>\n",
       "      <th>0</th>\n",
       "      <td>False</td>\n",
       "      <td>False</td>\n",
       "      <td>False</td>\n",
       "      <td>False</td>\n",
       "      <td>False</td>\n",
       "      <td>False</td>\n",
       "      <td>False</td>\n",
       "      <td>False</td>\n",
       "      <td>False</td>\n",
       "      <td>False</td>\n",
       "      <td>False</td>\n",
       "    </tr>\n",
       "    <tr>\n",
       "      <th>1</th>\n",
       "      <td>False</td>\n",
       "      <td>False</td>\n",
       "      <td>False</td>\n",
       "      <td>False</td>\n",
       "      <td>False</td>\n",
       "      <td>False</td>\n",
       "      <td>False</td>\n",
       "      <td>False</td>\n",
       "      <td>False</td>\n",
       "      <td>False</td>\n",
       "      <td>False</td>\n",
       "    </tr>\n",
       "    <tr>\n",
       "      <th>2</th>\n",
       "      <td>False</td>\n",
       "      <td>False</td>\n",
       "      <td>False</td>\n",
       "      <td>False</td>\n",
       "      <td>False</td>\n",
       "      <td>False</td>\n",
       "      <td>False</td>\n",
       "      <td>False</td>\n",
       "      <td>False</td>\n",
       "      <td>False</td>\n",
       "      <td>False</td>\n",
       "    </tr>\n",
       "    <tr>\n",
       "      <th>3</th>\n",
       "      <td>False</td>\n",
       "      <td>False</td>\n",
       "      <td>False</td>\n",
       "      <td>False</td>\n",
       "      <td>False</td>\n",
       "      <td>False</td>\n",
       "      <td>False</td>\n",
       "      <td>False</td>\n",
       "      <td>False</td>\n",
       "      <td>False</td>\n",
       "      <td>False</td>\n",
       "    </tr>\n",
       "    <tr>\n",
       "      <th>4</th>\n",
       "      <td>False</td>\n",
       "      <td>False</td>\n",
       "      <td>False</td>\n",
       "      <td>False</td>\n",
       "      <td>False</td>\n",
       "      <td>False</td>\n",
       "      <td>False</td>\n",
       "      <td>False</td>\n",
       "      <td>False</td>\n",
       "      <td>False</td>\n",
       "      <td>False</td>\n",
       "    </tr>\n",
       "    <tr>\n",
       "      <th>...</th>\n",
       "      <td>...</td>\n",
       "      <td>...</td>\n",
       "      <td>...</td>\n",
       "      <td>...</td>\n",
       "      <td>...</td>\n",
       "      <td>...</td>\n",
       "      <td>...</td>\n",
       "      <td>...</td>\n",
       "      <td>...</td>\n",
       "      <td>...</td>\n",
       "      <td>...</td>\n",
       "    </tr>\n",
       "    <tr>\n",
       "      <th>1512</th>\n",
       "      <td>False</td>\n",
       "      <td>False</td>\n",
       "      <td>False</td>\n",
       "      <td>False</td>\n",
       "      <td>False</td>\n",
       "      <td>False</td>\n",
       "      <td>False</td>\n",
       "      <td>False</td>\n",
       "      <td>False</td>\n",
       "      <td>True</td>\n",
       "      <td>False</td>\n",
       "    </tr>\n",
       "    <tr>\n",
       "      <th>1513</th>\n",
       "      <td>False</td>\n",
       "      <td>True</td>\n",
       "      <td>False</td>\n",
       "      <td>False</td>\n",
       "      <td>False</td>\n",
       "      <td>False</td>\n",
       "      <td>False</td>\n",
       "      <td>False</td>\n",
       "      <td>False</td>\n",
       "      <td>True</td>\n",
       "      <td>False</td>\n",
       "    </tr>\n",
       "    <tr>\n",
       "      <th>1514</th>\n",
       "      <td>False</td>\n",
       "      <td>False</td>\n",
       "      <td>False</td>\n",
       "      <td>False</td>\n",
       "      <td>False</td>\n",
       "      <td>False</td>\n",
       "      <td>False</td>\n",
       "      <td>False</td>\n",
       "      <td>False</td>\n",
       "      <td>True</td>\n",
       "      <td>False</td>\n",
       "    </tr>\n",
       "    <tr>\n",
       "      <th>1515</th>\n",
       "      <td>False</td>\n",
       "      <td>False</td>\n",
       "      <td>False</td>\n",
       "      <td>False</td>\n",
       "      <td>False</td>\n",
       "      <td>False</td>\n",
       "      <td>False</td>\n",
       "      <td>False</td>\n",
       "      <td>False</td>\n",
       "      <td>True</td>\n",
       "      <td>False</td>\n",
       "    </tr>\n",
       "    <tr>\n",
       "      <th>1516</th>\n",
       "      <td>False</td>\n",
       "      <td>False</td>\n",
       "      <td>False</td>\n",
       "      <td>False</td>\n",
       "      <td>False</td>\n",
       "      <td>False</td>\n",
       "      <td>False</td>\n",
       "      <td>False</td>\n",
       "      <td>False</td>\n",
       "      <td>True</td>\n",
       "      <td>False</td>\n",
       "    </tr>\n",
       "  </tbody>\n",
       "</table>\n",
       "<p>1517 rows × 11 columns</p>\n",
       "</div>"
      ],
      "text/plain": [
       "       Date  AveragePrice  Total Volume   4046   4225   4770  Total Bags  \\\n",
       "0     False         False         False  False  False  False       False   \n",
       "1     False         False         False  False  False  False       False   \n",
       "2     False         False         False  False  False  False       False   \n",
       "3     False         False         False  False  False  False       False   \n",
       "4     False         False         False  False  False  False       False   \n",
       "...     ...           ...           ...    ...    ...    ...         ...   \n",
       "1512  False         False         False  False  False  False       False   \n",
       "1513  False          True         False  False  False  False       False   \n",
       "1514  False         False         False  False  False  False       False   \n",
       "1515  False         False         False  False  False  False       False   \n",
       "1516  False         False         False  False  False  False       False   \n",
       "\n",
       "      Small Bags  Large Bags   year  region  \n",
       "0          False       False  False   False  \n",
       "1          False       False  False   False  \n",
       "2          False       False  False   False  \n",
       "3          False       False  False   False  \n",
       "4          False       False  False   False  \n",
       "...          ...         ...    ...     ...  \n",
       "1512       False       False   True   False  \n",
       "1513       False       False   True   False  \n",
       "1514       False       False   True   False  \n",
       "1515       False       False   True   False  \n",
       "1516       False       False   True   False  \n",
       "\n",
       "[1517 rows x 11 columns]"
      ]
     },
     "execution_count": 158,
     "metadata": {},
     "output_type": "execute_result"
    }
   ],
   "source": [
    "print(raw_data < (Q1 - 1.5 * IQR)) or (raw_data> (Q3 + 1.5 * IQR))"
   ]
  },
  {
   "cell_type": "code",
   "execution_count": 159,
   "metadata": {},
   "outputs": [
    {
     "data": {
      "text/plain": [
       "array([[0.72586133, 1.35048079, 0.34696593, ..., 0.36004386, 0.44100815,\n",
       "        1.3143384 ],\n",
       "       [0.68485673, 1.45639674, 0.34907791, ..., 0.36000798, 0.44100815,\n",
       "        1.3143384 ],\n",
       "       [0.64385214, 0.76783831, 0.33478463, ..., 0.35996017, 0.44100815,\n",
       "        1.3143384 ],\n",
       "       ...,\n",
       "       [0.98946233, 2.14485045, 0.32120275, ..., 0.29095317, 2.26753179,\n",
       "        0.88028586],\n",
       "       [2.32504069, 2.09189247, 0.31878364, ..., 0.29078309, 2.26753179,\n",
       "        0.88028586],\n",
       "       [2.28403609, 1.88006056, 0.3201721 , ..., 0.26226571, 2.26753179,\n",
       "        0.88028586]])"
      ]
     },
     "execution_count": 159,
     "metadata": {},
     "output_type": "execute_result"
    }
   ],
   "source": [
    "from scipy.stats import zscore\n",
    "z=np.abs(zscore(raw_data))\n",
    "z"
   ]
  },
  {
   "cell_type": "code",
   "execution_count": 160,
   "metadata": {},
   "outputs": [
    {
     "name": "stdout",
     "output_type": "stream",
     "text": [
      "(array([   0,    0,    0, ..., 1516, 1516, 1516], dtype=int64), array([ 0,  1,  2, ...,  8,  9, 10], dtype=int64))\n",
      "(1517, 11)\n"
     ]
    }
   ],
   "source": [
    "threshold =3\n",
    "print(np.where(z<3))\n",
    "print(raw_data.shape)"
   ]
  },
  {
   "cell_type": "code",
   "execution_count": 161,
   "metadata": {},
   "outputs": [],
   "source": [
    "data_new = raw_data[(z<3).all(axis = 1)]"
   ]
  },
  {
   "cell_type": "code",
   "execution_count": 162,
   "metadata": {},
   "outputs": [
    {
     "data": {
      "text/plain": [
       "(1471, 11)"
      ]
     },
     "execution_count": 162,
     "metadata": {},
     "output_type": "execute_result"
    }
   ],
   "source": [
    "data_new.shape"
   ]
  },
  {
   "cell_type": "code",
   "execution_count": 163,
   "metadata": {},
   "outputs": [
    {
     "data": {
      "text/plain": [
       "(1517, 11)"
      ]
     },
     "execution_count": 163,
     "metadata": {},
     "output_type": "execute_result"
    }
   ],
   "source": [
    "raw_data.shape"
   ]
  },
  {
   "cell_type": "code",
   "execution_count": 164,
   "metadata": {},
   "outputs": [
    {
     "data": {
      "text/plain": [
       "Date               AxesSubplot(0.125,0.536818;0.110714x0.343182)\n",
       "AveragePrice    AxesSubplot(0.257857,0.536818;0.110714x0.343182)\n",
       "Total Volume    AxesSubplot(0.390714,0.536818;0.110714x0.343182)\n",
       "4046            AxesSubplot(0.523571,0.536818;0.110714x0.343182)\n",
       "4225            AxesSubplot(0.656429,0.536818;0.110714x0.343182)\n",
       "4770            AxesSubplot(0.789286,0.536818;0.110714x0.343182)\n",
       "Total Bags            AxesSubplot(0.125,0.125;0.110714x0.343182)\n",
       "Small Bags         AxesSubplot(0.257857,0.125;0.110714x0.343182)\n",
       "Large Bags         AxesSubplot(0.390714,0.125;0.110714x0.343182)\n",
       "year               AxesSubplot(0.523571,0.125;0.110714x0.343182)\n",
       "region             AxesSubplot(0.656429,0.125;0.110714x0.343182)\n",
       "dtype: object"
      ]
     },
     "execution_count": 164,
     "metadata": {},
     "output_type": "execute_result"
    },
    {
     "data": {
      "image/png": "[encoded data removed]",
      "text/plain": [
       "<Figure size 720x720 with 12 Axes>"
      ]
     },
     "metadata": {
      "needs_background": "light"
     },
     "output_type": "display_data"
    }
   ],
   "source": [
    "data_new.plot(kind='box',subplots=True,layout=(2,6),figsize=(10,10))"
   ]
  },
  {
   "cell_type": "code",
   "execution_count": 165,
   "metadata": {},
   "outputs": [
    {
     "data": {
      "text/plain": [
       "Date            0.932585\n",
       "AveragePrice   -0.178772\n",
       "Total Volume    2.392416\n",
       "4046            2.776925\n",
       "4225            2.116776\n",
       "4770            3.188256\n",
       "Total Bags      3.461998\n",
       "Small Bags      3.647402\n",
       "Large Bags      3.292584\n",
       "year            1.825081\n",
       "region          0.311945\n",
       "dtype: float64"
      ]
     },
     "execution_count": 165,
     "metadata": {},
     "output_type": "execute_result"
    }
   ],
   "source": [
    "data_new.skew()"
   ]
  },
  {
   "cell_type": "code",
   "execution_count": 166,
   "metadata": {},
   "outputs": [],
   "source": [
    "from scipy.stats import boxcox\n",
    "#boxcox is used to remove skewness\n",
    "#0 -> log transform\n",
    "#.5 -> square root transform\n",
    "#ds_skew = ['4770','Total Bags','Small Bags','Large Bags']\n",
    "#for i in ds_skew:\n",
    "#    ds_skew[i]=boxcox(ds_skew[i],0)"
   ]
  },
  {
   "cell_type": "code",
   "execution_count": 167,
   "metadata": {},
   "outputs": [
    {
     "data": {
      "image/png": "[encoded data removed]",
      "text/plain": [
       "<Figure size 576x504 with 2 Axes>"
      ]
     },
     "metadata": {
      "needs_background": "light"
     },
     "output_type": "display_data"
    }
   ],
   "source": [
    "corr_hmap=data_new.corr()\n",
    "plt.figure(figsize=(8,7))\n",
    "sns.heatmap(corr_hmap,annot=True)\n",
    "plt.show()"
   ]
  },
  {
   "cell_type": "code",
   "execution_count": 168,
   "metadata": {},
   "outputs": [],
   "source": [
    "#from above heat map we can see most of the values/columns are positively correlated with each other.\n",
    "#column 'AveragePrice' is having negative correlation with most of columns but value of skewness is small."
   ]
  },
  {
   "cell_type": "code",
   "execution_count": 169,
   "metadata": {},
   "outputs": [
    {
     "data": {
      "text/plain": [
       "Index(['Date', 'AveragePrice', 'Total Volume', '4046', '4225', '4770',\n",
       "       'Total Bags', 'Small Bags', 'Large Bags', 'year', 'region'],\n",
       "      dtype='object')"
      ]
     },
     "execution_count": 169,
     "metadata": {},
     "output_type": "execute_result"
    }
   ],
   "source": [
    "data_new.columns"
   ]
  },
  {
   "cell_type": "code",
   "execution_count": 170,
   "metadata": {},
   "outputs": [],
   "source": [
    "x = data_new.iloc[:,2:] # Here I am not using 'Date' column in model building process as it has no impact in price prediction\n",
    "#process."
   ]
  },
  {
   "cell_type": "code",
   "execution_count": 171,
   "metadata": {},
   "outputs": [
    {
     "data": {
      "text/plain": [
       "(1471, 9)"
      ]
     },
     "execution_count": 171,
     "metadata": {},
     "output_type": "execute_result"
    }
   ],
   "source": [
    "x.shape"
   ]
  },
  {
   "cell_type": "code",
   "execution_count": 172,
   "metadata": {},
   "outputs": [],
   "source": [
    "y = data_new.iloc[:,1]"
   ]
  },
  {
   "cell_type": "code",
   "execution_count": 173,
   "metadata": {},
   "outputs": [
    {
     "data": {
      "text/plain": [
       "(1471,)"
      ]
     },
     "execution_count": 173,
     "metadata": {},
     "output_type": "execute_result"
    }
   ],
   "source": [
    "y.shape"
   ]
  },
  {
   "cell_type": "code",
   "execution_count": 174,
   "metadata": {},
   "outputs": [],
   "source": [
    "from sklearn.preprocessing import StandardScaler\n",
    "import warnings\n",
    "warnings.filterwarnings('ignore')"
   ]
  },
  {
   "cell_type": "code",
   "execution_count": 175,
   "metadata": {},
   "outputs": [],
   "source": [
    "scale = StandardScaler()"
   ]
  },
  {
   "cell_type": "code",
   "execution_count": 176,
   "metadata": {},
   "outputs": [],
   "source": [
    "x=scale.fit_transform(x)"
   ]
  },
  {
   "cell_type": "code",
   "execution_count": 177,
   "metadata": {},
   "outputs": [
    {
     "data": {
      "text/plain": [
       "(1471, 9)"
      ]
     },
     "execution_count": 177,
     "metadata": {},
     "output_type": "execute_result"
    }
   ],
   "source": [
    "x.shape"
   ]
  },
  {
   "cell_type": "code",
   "execution_count": 178,
   "metadata": {},
   "outputs": [
    {
     "name": "stdout",
     "output_type": "stream",
     "text": [
      "Best accuracy score is: 0.8569303739943734 of model: KNeighborsRegressor() with best random state value is: 78\n"
     ]
    }
   ],
   "source": [
    "models = [KNeighborsRegressor(),DecisionTreeRegressor(),LinearRegression()]\n",
    "max_score = 0\n",
    "for i in range(1,100):\n",
    "    train_x,test_x,train_y,test_y=train_test_split(x,y,test_size=.20,random_state=i)\n",
    "    for j in models:\n",
    "        j.fit(train_x,train_y)\n",
    "        pred=j.predict(test_x)\n",
    "        temp_score=r2_score(pred,test_y)\n",
    "        if temp_score > max_score:\n",
    "            max_score = temp_score\n",
    "            final_temp_state = i\n",
    "            best_model = j\n",
    "print(\"Best accuracy score is:\",max_score,\"of model:\",best_model,\"with best random state value is:\",final_temp_state)"
   ]
  },
  {
   "cell_type": "code",
   "execution_count": 179,
   "metadata": {},
   "outputs": [
    {
     "data": {
      "text/plain": [
       "{'n_neighbors': 2}"
      ]
     },
     "execution_count": 179,
     "metadata": {},
     "output_type": "execute_result"
    }
   ],
   "source": [
    "knn=KNeighborsRegressor()\n",
    "train_x,test_x,train_y,test_y=train_test_split(x,y,test_size=.20,random_state=final_temp_state)\n",
    "parameters={'n_neighbors':range(1,25)}\n",
    "gs=GridSearchCV(knn, parameters)\n",
    "gs.fit(train_x,train_y)\n",
    "gs.best_params_"
   ]
  },
  {
   "cell_type": "code",
   "execution_count": 180,
   "metadata": {},
   "outputs": [
    {
     "name": "stdout",
     "output_type": "stream",
     "text": [
      "R2 score: 0.8479362896742628\n",
      "Absolute squarred error: 0.05559322033898305\n",
      "Mean squarred error: 0.005637457627118645\n"
     ]
    }
   ],
   "source": [
    "knn=KNeighborsRegressor(n_neighbors=2)\n",
    "train_x,test_x,train_y,test_y=train_test_split(x,y,test_size=.20,random_state=final_temp_state)\n",
    "knn.fit(train_x,train_y)\n",
    "predknn = knn.predict(test_x)\n",
    "print(\"R2 score:\",r2_score(predknn,test_y))\n",
    "print(\"Absolute squarred error:\", mean_absolute_error(test_y,predknn))\n",
    "print(\"Mean squarred error:\", mean_squared_error(test_y,predknn))"
   ]
  },
  {
   "cell_type": "code",
   "execution_count": 181,
   "metadata": {},
   "outputs": [
    {
     "data": {
      "text/plain": [
       "Text(0, 0.5, 'Predicted values')"
      ]
     },
     "execution_count": 181,
     "metadata": {},
     "output_type": "execute_result"
    },
    {
     "data": {
      "image/png": "[encoded data removed]",
      "text/plain": [
       "<Figure size 432x288 with 1 Axes>"
      ]
     },
     "metadata": {
      "needs_background": "light"
     },
     "output_type": "display_data"
    }
   ],
   "source": [
    "plt.scatter(x=test_y,y=predknn)\n",
    "plt.xlabel(\"Actual Values\")\n",
    "plt.ylabel(\"Predicted values\")"
   ]
  },
  {
   "cell_type": "code",
   "execution_count": 182,
   "metadata": {},
   "outputs": [],
   "source": [
    "#In scatter plot graph we can see that the actual value and predicted values are very close to each other, which indicates\n",
    "#that the line is best fit line and our model prediction is in line with actual values."
   ]
  },
  {
   "cell_type": "code",
   "execution_count": 183,
   "metadata": {},
   "outputs": [],
   "source": [
    "output_data_knn=pd.DataFrame(predknn)\n",
    "output_data_knn.to_csv(\"E:\\\\python\\\\Avocado_prediction_price.csv\",header=0)"
   ]
  },
  {
   "cell_type": "code",
   "execution_count": 184,
   "metadata": {},
   "outputs": [],
   "source": [
    "#Prediction with Region"
   ]
  },
  {
   "cell_type": "code",
   "execution_count": 185,
   "metadata": {},
   "outputs": [],
   "source": [
    "x_region = data_new.iloc[:,1:-1]"
   ]
  },
  {
   "cell_type": "code",
   "execution_count": 186,
   "metadata": {},
   "outputs": [
    {
     "data": {
      "text/html": [
       "<div>\n",
       "<style scoped>\n",
       "    .dataframe tbody tr th:only-of-type {\n",
       "        vertical-align: middle;\n",
       "    }\n",
       "\n",
       "    .dataframe tbody tr th {\n",
       "        vertical-align: top;\n",
       "    }\n",
       "\n",
       "    .dataframe thead th {\n",
       "        text-align: right;\n",
       "    }\n",
       "</style>\n",
       "<table border=\"1\" class=\"dataframe\">\n",
       "  <thead>\n",
       "    <tr style=\"text-align: right;\">\n",
       "      <th></th>\n",
       "      <th>AveragePrice</th>\n",
       "      <th>Total Volume</th>\n",
       "      <th>4046</th>\n",
       "      <th>4225</th>\n",
       "      <th>4770</th>\n",
       "      <th>Total Bags</th>\n",
       "      <th>Small Bags</th>\n",
       "      <th>Large Bags</th>\n",
       "      <th>year</th>\n",
       "    </tr>\n",
       "  </thead>\n",
       "  <tbody>\n",
       "    <tr>\n",
       "      <th>0</th>\n",
       "      <td>1.33</td>\n",
       "      <td>64236.62</td>\n",
       "      <td>1036.74</td>\n",
       "      <td>54454.85</td>\n",
       "      <td>48.16</td>\n",
       "      <td>8696.87</td>\n",
       "      <td>8603.62</td>\n",
       "      <td>93.25</td>\n",
       "      <td>2015</td>\n",
       "    </tr>\n",
       "    <tr>\n",
       "      <th>1</th>\n",
       "      <td>1.35</td>\n",
       "      <td>54876.98</td>\n",
       "      <td>674.28</td>\n",
       "      <td>44638.81</td>\n",
       "      <td>58.33</td>\n",
       "      <td>9505.56</td>\n",
       "      <td>9408.07</td>\n",
       "      <td>97.49</td>\n",
       "      <td>2015</td>\n",
       "    </tr>\n",
       "    <tr>\n",
       "      <th>2</th>\n",
       "      <td>0.93</td>\n",
       "      <td>118220.22</td>\n",
       "      <td>794.70</td>\n",
       "      <td>109149.67</td>\n",
       "      <td>130.50</td>\n",
       "      <td>8145.35</td>\n",
       "      <td>8042.21</td>\n",
       "      <td>103.14</td>\n",
       "      <td>2015</td>\n",
       "    </tr>\n",
       "    <tr>\n",
       "      <th>3</th>\n",
       "      <td>1.08</td>\n",
       "      <td>78992.15</td>\n",
       "      <td>1132.00</td>\n",
       "      <td>71976.41</td>\n",
       "      <td>72.58</td>\n",
       "      <td>5811.16</td>\n",
       "      <td>5677.40</td>\n",
       "      <td>133.76</td>\n",
       "      <td>2015</td>\n",
       "    </tr>\n",
       "    <tr>\n",
       "      <th>4</th>\n",
       "      <td>1.28</td>\n",
       "      <td>51039.60</td>\n",
       "      <td>941.48</td>\n",
       "      <td>43838.39</td>\n",
       "      <td>75.78</td>\n",
       "      <td>6183.95</td>\n",
       "      <td>5986.26</td>\n",
       "      <td>197.69</td>\n",
       "      <td>2015</td>\n",
       "    </tr>\n",
       "    <tr>\n",
       "      <th>...</th>\n",
       "      <td>...</td>\n",
       "      <td>...</td>\n",
       "      <td>...</td>\n",
       "      <td>...</td>\n",
       "      <td>...</td>\n",
       "      <td>...</td>\n",
       "      <td>...</td>\n",
       "      <td>...</td>\n",
       "      <td>...</td>\n",
       "    </tr>\n",
       "    <tr>\n",
       "      <th>1512</th>\n",
       "      <td>1.39</td>\n",
       "      <td>190846.01</td>\n",
       "      <td>57529.11</td>\n",
       "      <td>56366.66</td>\n",
       "      <td>17531.78</td>\n",
       "      <td>59418.46</td>\n",
       "      <td>48823.53</td>\n",
       "      <td>10354.65</td>\n",
       "      <td>2016</td>\n",
       "    </tr>\n",
       "    <tr>\n",
       "      <th>1513</th>\n",
       "      <td>1.51</td>\n",
       "      <td>178235.75</td>\n",
       "      <td>43325.87</td>\n",
       "      <td>52189.61</td>\n",
       "      <td>19419.57</td>\n",
       "      <td>63300.70</td>\n",
       "      <td>54704.14</td>\n",
       "      <td>8596.56</td>\n",
       "      <td>2016</td>\n",
       "    </tr>\n",
       "    <tr>\n",
       "      <th>1514</th>\n",
       "      <td>1.48</td>\n",
       "      <td>178410.82</td>\n",
       "      <td>46364.75</td>\n",
       "      <td>52893.38</td>\n",
       "      <td>16736.92</td>\n",
       "      <td>62415.77</td>\n",
       "      <td>53332.61</td>\n",
       "      <td>8258.16</td>\n",
       "      <td>2016</td>\n",
       "    </tr>\n",
       "    <tr>\n",
       "      <th>1515</th>\n",
       "      <td>1.47</td>\n",
       "      <td>189131.52</td>\n",
       "      <td>54110.79</td>\n",
       "      <td>53593.58</td>\n",
       "      <td>17495.42</td>\n",
       "      <td>63931.73</td>\n",
       "      <td>55653.47</td>\n",
       "      <td>8278.26</td>\n",
       "      <td>2016</td>\n",
       "    </tr>\n",
       "    <tr>\n",
       "      <th>1516</th>\n",
       "      <td>1.43</td>\n",
       "      <td>182978.30</td>\n",
       "      <td>43116.41</td>\n",
       "      <td>54193.42</td>\n",
       "      <td>16563.91</td>\n",
       "      <td>69104.56</td>\n",
       "      <td>57456.21</td>\n",
       "      <td>11648.35</td>\n",
       "      <td>2016</td>\n",
       "    </tr>\n",
       "  </tbody>\n",
       "</table>\n",
       "<p>1471 rows × 9 columns</p>\n",
       "</div>"
      ],
      "text/plain": [
       "      AveragePrice  Total Volume      4046       4225      4770  Total Bags  \\\n",
       "0             1.33      64236.62   1036.74   54454.85     48.16     8696.87   \n",
       "1             1.35      54876.98    674.28   44638.81     58.33     9505.56   \n",
       "2             0.93     118220.22    794.70  109149.67    130.50     8145.35   \n",
       "3             1.08      78992.15   1132.00   71976.41     72.58     5811.16   \n",
       "4             1.28      51039.60    941.48   43838.39     75.78     6183.95   \n",
       "...            ...           ...       ...        ...       ...         ...   \n",
       "1512          1.39     190846.01  57529.11   56366.66  17531.78    59418.46   \n",
       "1513          1.51     178235.75  43325.87   52189.61  19419.57    63300.70   \n",
       "1514          1.48     178410.82  46364.75   52893.38  16736.92    62415.77   \n",
       "1515          1.47     189131.52  54110.79   53593.58  17495.42    63931.73   \n",
       "1516          1.43     182978.30  43116.41   54193.42  16563.91    69104.56   \n",
       "\n",
       "      Small Bags  Large Bags  year  \n",
       "0        8603.62       93.25  2015  \n",
       "1        9408.07       97.49  2015  \n",
       "2        8042.21      103.14  2015  \n",
       "3        5677.40      133.76  2015  \n",
       "4        5986.26      197.69  2015  \n",
       "...          ...         ...   ...  \n",
       "1512    48823.53    10354.65  2016  \n",
       "1513    54704.14     8596.56  2016  \n",
       "1514    53332.61     8258.16  2016  \n",
       "1515    55653.47     8278.26  2016  \n",
       "1516    57456.21    11648.35  2016  \n",
       "\n",
       "[1471 rows x 9 columns]"
      ]
     },
     "execution_count": 186,
     "metadata": {},
     "output_type": "execute_result"
    }
   ],
   "source": [
    "x_region"
   ]
  },
  {
   "cell_type": "code",
   "execution_count": 187,
   "metadata": {},
   "outputs": [
    {
     "data": {
      "text/plain": [
       "(1471, 9)"
      ]
     },
     "execution_count": 187,
     "metadata": {},
     "output_type": "execute_result"
    }
   ],
   "source": [
    "x_region.shape"
   ]
  },
  {
   "cell_type": "code",
   "execution_count": 188,
   "metadata": {},
   "outputs": [],
   "source": [
    "y_region = data_new.iloc[:,-1]"
   ]
  },
  {
   "cell_type": "code",
   "execution_count": 189,
   "metadata": {},
   "outputs": [
    {
     "data": {
      "text/plain": [
       "0       0\n",
       "1       0\n",
       "2       0\n",
       "3       0\n",
       "4       0\n",
       "       ..\n",
       "1512    7\n",
       "1513    7\n",
       "1514    7\n",
       "1515    7\n",
       "1516    7\n",
       "Name: region, Length: 1471, dtype: int32"
      ]
     },
     "execution_count": 189,
     "metadata": {},
     "output_type": "execute_result"
    }
   ],
   "source": [
    "y_region"
   ]
  },
  {
   "cell_type": "code",
   "execution_count": 190,
   "metadata": {},
   "outputs": [
    {
     "data": {
      "text/plain": [
       "(1471,)"
      ]
     },
     "execution_count": 190,
     "metadata": {},
     "output_type": "execute_result"
    }
   ],
   "source": [
    "y_region.shape"
   ]
  },
  {
   "cell_type": "code",
   "execution_count": 191,
   "metadata": {},
   "outputs": [],
   "source": [
    "x_region=scale.fit_transform(x_region)"
   ]
  },
  {
   "cell_type": "code",
   "execution_count": 192,
   "metadata": {},
   "outputs": [],
   "source": [
    "from sklearn.naive_bayes import MultinomialNB\n",
    "from sklearn.svm import SVC"
   ]
  },
  {
   "cell_type": "code",
   "execution_count": 193,
   "metadata": {},
   "outputs": [
    {
     "name": "stdout",
     "output_type": "stream",
     "text": [
      "Best accuracy score is: 0.9322033898305084 of model: DecisionTreeClassifier() with best random state value is: 10\n"
     ]
    }
   ],
   "source": [
    "models = [KNeighborsClassifier(),DecisionTreeClassifier(),SVC()]\n",
    "max_score = 0\n",
    "for i in range(1,100):\n",
    "    train_x_reg,test_x_reg,train_y_reg,test_y_reg=train_test_split(x_region,y_region,test_size=.20,random_state=i)\n",
    "    for j in models:\n",
    "        j.fit(train_x_reg,train_y_reg)\n",
    "        pred=j.predict(test_x_reg)\n",
    "        temp_score=accuracy_score(pred,test_y_reg)\n",
    "        if temp_score > max_score:\n",
    "            max_score = temp_score\n",
    "            final_temp_state = i\n",
    "            best_model = j\n",
    "print(\"Best accuracy score is:\",max_score,\"of model:\",best_model,\"with best random state value is:\",final_temp_state)"
   ]
  },
  {
   "cell_type": "code",
   "execution_count": 194,
   "metadata": {},
   "outputs": [
    {
     "name": "stdout",
     "output_type": "stream",
     "text": [
      "Accuracy score: 0.9186440677966101\n",
      "Confusion matrix:\n",
      " [[15  0  0 ...  0  0  0]\n",
      " [ 0 12  0 ...  1  0  0]\n",
      " [ 0  0 20 ...  0  0  0]\n",
      " ...\n",
      " [ 0  0  0 ...  5  0  0]\n",
      " [ 0  0  0 ...  0  6  0]\n",
      " [ 0  0  0 ...  0  0  1]]\n",
      "Classification report:               precision    recall  f1-score   support\n",
      "\n",
      "           0       1.00      1.00      1.00        15\n",
      "           1       0.92      0.86      0.89        14\n",
      "           2       0.91      0.95      0.93        21\n",
      "           3       1.00      0.94      0.97        16\n",
      "           4       1.00      0.78      0.88         9\n",
      "           5       0.92      1.00      0.96        12\n",
      "           6       0.89      1.00      0.94        16\n",
      "           7       0.75      0.86      0.80         7\n",
      "           8       1.00      0.83      0.91         6\n",
      "           9       0.75      1.00      0.86         6\n",
      "          10       1.00      1.00      1.00         4\n",
      "          11       1.00      1.00      1.00         7\n",
      "          12       1.00      1.00      1.00         8\n",
      "          13       1.00      1.00      1.00         5\n",
      "          14       0.33      1.00      0.50         1\n",
      "          15       1.00      1.00      1.00         4\n",
      "          16       1.00      1.00      1.00         2\n",
      "          17       1.00      0.80      0.89         5\n",
      "          18       1.00      1.00      1.00         1\n",
      "          19       0.90      1.00      0.95         9\n",
      "          20       1.00      0.50      0.67         2\n",
      "          21       1.00      1.00      1.00         1\n",
      "          22       1.00      1.00      1.00         5\n",
      "          23       1.00      1.00      1.00         2\n",
      "          24       1.00      0.50      0.67         4\n",
      "          25       0.83      1.00      0.91         5\n",
      "          26       1.00      1.00      1.00         4\n",
      "          27       0.80      1.00      0.89         4\n",
      "          28       0.86      1.00      0.92         6\n",
      "          29       1.00      0.71      0.83         7\n",
      "          31       0.82      1.00      0.90         9\n",
      "          32       1.00      1.00      1.00         2\n",
      "          33       1.00      1.00      1.00         2\n",
      "          34       1.00      1.00      1.00         2\n",
      "          35       0.50      0.33      0.40         3\n",
      "          36       1.00      0.57      0.73         7\n",
      "          37       1.00      1.00      1.00         3\n",
      "          38       0.67      1.00      0.80         4\n",
      "          39       0.86      1.00      0.92         6\n",
      "          40       1.00      1.00      1.00         3\n",
      "          41       1.00      1.00      1.00         7\n",
      "          42       1.00      0.83      0.91         6\n",
      "          43       1.00      1.00      1.00         4\n",
      "          44       1.00      0.86      0.92         7\n",
      "          45       1.00      1.00      1.00         3\n",
      "          46       1.00      1.00      1.00         4\n",
      "          47       0.71      1.00      0.83         5\n",
      "          49       1.00      0.75      0.86         8\n",
      "          50       1.00      0.50      0.67         2\n",
      "\n",
      "    accuracy                           0.92       295\n",
      "   macro avg       0.93      0.91      0.90       295\n",
      "weighted avg       0.93      0.92      0.92       295\n",
      "\n"
     ]
    }
   ],
   "source": [
    "dtc=DecisionTreeClassifier()\n",
    "train_x_reg,test_x_reg,train_y_reg,test_y_reg=train_test_split(x_region,y_region,test_size=.20,random_state=final_temp_state)\n",
    "dtc.fit(train_x_reg,train_y_reg)\n",
    "preddtc = dtc.predict(test_x_reg)\n",
    "print(\"Accuracy score:\", accuracy_score(test_y_reg,preddtc))\n",
    "print(\"Confusion matrix:\\n\", confusion_matrix(test_y_reg, preddtc))\n",
    "print(\"Classification report:\",classification_report(test_y_reg,preddtc))"
   ]
  },
  {
   "cell_type": "code",
   "execution_count": 195,
   "metadata": {},
   "outputs": [
    {
     "name": "stdout",
     "output_type": "stream",
     "text": [
      "Cross validation score is= [0.72542373 0.84693878 0.84013605 0.88435374 0.76870748]\n",
      "Cross validation mean score is= 0.8131119566470657\n",
      "Cross validation standard deviation score is= 0.057638407376577376\n"
     ]
    }
   ],
   "source": [
    "cross_score=cross_val_score(dtc,x_region,y_region,cv=5)\n",
    "print(\"Cross validation score is=\",cross_score)\n",
    "print(\"Cross validation mean score is=\",cross_score.mean())\n",
    "print(\"Cross validation standard deviation score is=\",cross_score.std())"
   ]
  },
  {
   "cell_type": "code",
   "execution_count": 196,
   "metadata": {},
   "outputs": [],
   "source": [
    "from sklearn.metrics import roc_auc_score,roc_curve"
   ]
  },
  {
   "cell_type": "code",
   "execution_count": 197,
   "metadata": {},
   "outputs": [
    {
     "data": {
      "text/plain": [
       "array([0., 0., 1., 0., 0., 0., 0., 0., 1., 0., 0., 0., 0., 0., 0., 0., 1.,\n",
       "       0., 0., 0., 0., 0., 0., 0., 0., 0., 0., 0., 0., 0., 0., 0., 0., 0.,\n",
       "       0., 0., 0., 0., 0., 0., 0., 0., 0., 0., 0., 0., 0., 0., 0., 0., 0.,\n",
       "       0., 0., 0., 0., 0., 0., 0., 0., 0., 0., 0., 0., 0., 0., 0., 0., 0.,\n",
       "       0., 0., 0., 0., 0., 0., 0., 0., 0., 0., 0., 0., 0., 0., 0., 0., 0.,\n",
       "       0., 1., 0., 0., 0., 0., 0., 0., 0., 0., 0., 0., 0., 0., 0., 0., 0.,\n",
       "       0., 0., 0., 0., 0., 0., 0., 0., 0., 0., 0., 0., 0., 0., 0., 0., 1.,\n",
       "       0., 0., 1., 0., 0., 0., 0., 0., 0., 0., 0., 0., 0., 0., 0., 0., 0.,\n",
       "       0., 0., 0., 0., 0., 0., 0., 0., 0., 0., 0., 0., 0., 0., 0., 0., 0.,\n",
       "       0., 0., 0., 0., 0., 0., 0., 0., 0., 0., 0., 0., 0., 0., 0., 0., 0.,\n",
       "       0., 0., 0., 0., 0., 0., 0., 0., 0., 0., 0., 0., 0., 0., 0., 0., 1.,\n",
       "       0., 0., 0., 0., 0., 0., 0., 0., 0., 0., 0., 0., 0., 0., 0., 0., 0.,\n",
       "       1., 0., 0., 0., 0., 0., 0., 1., 0., 0., 0., 0., 0., 0., 0., 0., 0.,\n",
       "       0., 0., 0., 0., 0., 0., 0., 0., 0., 0., 0., 1., 0., 0., 0., 0., 0.,\n",
       "       0., 0., 0., 1., 0., 0., 0., 0., 0., 0., 0., 0., 0., 0., 0., 0., 0.,\n",
       "       0., 0., 0., 0., 0., 0., 1., 0., 0., 0., 0., 0., 0., 0., 0., 0., 0.,\n",
       "       0., 0., 0., 0., 0., 0., 0., 1., 0., 0., 0., 0., 0., 0., 0., 0., 0.,\n",
       "       0., 0., 0., 0., 0., 0.])"
      ]
     },
     "execution_count": 197,
     "metadata": {},
     "output_type": "execute_result"
    }
   ],
   "source": [
    "probability = dtc.predict_proba(test_x_reg)[:,1]\n",
    "probability"
   ]
  },
  {
   "cell_type": "code",
   "execution_count": 198,
   "metadata": {},
   "outputs": [],
   "source": [
    "fpr,tpr,threshold = roc_curve(test_y_reg,probability,pos_label=True)"
   ]
  },
  {
   "cell_type": "code",
   "execution_count": 199,
   "metadata": {},
   "outputs": [
    {
     "name": "stdout",
     "output_type": "stream",
     "text": [
      "[0.         0.00355872 1.        ]\n",
      "[0.         0.85714286 1.        ]\n",
      "[2. 1. 0.]\n"
     ]
    }
   ],
   "source": [
    "print(fpr)\n",
    "print(tpr)\n",
    "print(threshold)"
   ]
  },
  {
   "cell_type": "code",
   "execution_count": 200,
   "metadata": {},
   "outputs": [
    {
     "data": {
      "image/png": "[encoded data removed]",
      "text/plain": [
       "<Figure size 432x288 with 1 Axes>"
      ]
     },
     "metadata": {
      "needs_background": "light"
     },
     "output_type": "display_data"
    }
   ],
   "source": [
    "plt.plot([0,1],[1,0],'k--')\n",
    "plt.plot(fpr,tpr,label = \"DecisionTreeClassifier\")\n",
    "plt.xlabel(\"False Positive rate\")\n",
    "plt.ylabel(\"True Positive rate\")\n",
    "plt.show()"
   ]
  },
  {
   "cell_type": "code",
   "execution_count": 201,
   "metadata": {},
   "outputs": [
    {
     "data": {
      "text/plain": [
       "Text(0, 0.5, 'Predicted values')"
      ]
     },
     "execution_count": 201,
     "metadata": {},
     "output_type": "execute_result"
    },
    {
     "data": {
      "image/png": "[encoded data removed]",
      "text/plain": [
       "<Figure size 432x288 with 1 Axes>"
      ]
     },
     "metadata": {
      "needs_background": "light"
     },
     "output_type": "display_data"
    }
   ],
   "source": [
    "plt.scatter(x=test_y_reg,y=preddtc)\n",
    "plt.xlabel(\"Actual Values\")\n",
    "plt.ylabel(\"Predicted values\")"
   ]
  },
  {
   "cell_type": "code",
   "execution_count": 202,
   "metadata": {},
   "outputs": [],
   "source": [
    "output_data_dtc=pd.DataFrame(preddtc)\n",
    "output_data_dtc.to_csv(\"E:\\\\python\\\\Avocado_prediction_region.csv\",header=0)"
   ]
  },
  {
   "cell_type": "code",
   "execution_count": 203,
   "metadata": {},
   "outputs": [
    {
     "data": {
      "text/plain": [
       "['E:\\\\python\\\\Avocado_prediction_region.obj']"
      ]
     },
     "execution_count": 203,
     "metadata": {},
     "output_type": "execute_result"
    }
   ],
   "source": [
    "import joblib\n",
    "joblib.dump(knn,'E:\\\\python\\\\Avocado_prediction_price.obj')\n",
    "joblib.dump(dtc,'E:\\\\python\\\\Avocado_prediction_region.obj')"
   ]
  },
  {
   "cell_type": "code",
   "execution_count": null,
   "metadata": {},
   "outputs": [],
   "source": []
  }
 ],
 "metadata": {
  "kernelspec": {
   "display_name": "Python 3",
   "language": "python",
   "name": "python3"
  },
  "language_info": {
   "codemirror_mode": {
    "name": "ipython",
    "version": 3
   },
   "file_extension": ".py",
   "mimetype": "text/x-python",
   "name": "python",
   "nbconvert_exporter": "python",
   "pygments_lexer": "ipython3",
   "version": "3.8.5"
  }
 },
 "nbformat": 4,
 "nbformat_minor": 4
}
