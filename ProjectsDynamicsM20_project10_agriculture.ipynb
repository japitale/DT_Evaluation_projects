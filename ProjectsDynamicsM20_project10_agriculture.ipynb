{
 "cells": [
  {
   "cell_type": "code",
   "execution_count": 1,
   "metadata": {},
   "outputs": [],
   "source": [
    "import numpy as np\n",
    "import pandas as pd\n",
    "import sklearn\n",
    "import seaborn as sns\n",
    "import matplotlib.pyplot as plt\n",
    "from sklearn.metrics import mean_squared_error, mean_absolute_error\n",
    "from sklearn.model_selection import train_test_split,cross_val_score\n",
    "import datetime as dt\n",
    "import math\n",
    "from sklearn.svm import SVC\n",
    "from sklearn.tree import DecisionTreeClassifier\n",
    "from sklearn.ensemble import RandomForestClassifier\n",
    "from sklearn.neighbors import KNeighborsClassifier\n",
    "from sklearn.metrics import mean_squared_error, mean_absolute_error\n",
    "from sklearn.model_selection import train_test_split,cross_val_score,GridSearchCV\n",
    "from sklearn.metrics import accuracy_score,r2_score,confusion_matrix,classification_report\n",
    "import warnings\n",
    "warnings.filterwarnings('ignore')"
   ]
  },
  {
   "cell_type": "code",
   "execution_count": 2,
   "metadata": {},
   "outputs": [],
   "source": [
    "read_train_file = pd.read_excel ('E:\\\\python\\\\train_agriculture.xlsx')\n",
    "read_train_file.to_csv ('E:\\\\python\\\\train_agriculture_converted.csv', index = None, header=True)"
   ]
  },
  {
   "cell_type": "code",
   "execution_count": 3,
   "metadata": {},
   "outputs": [],
   "source": [
    "#Here we have converted train input .xlsx files into .csv format and have loaded it."
   ]
  },
  {
   "cell_type": "code",
   "execution_count": 4,
   "metadata": {},
   "outputs": [
    {
     "data": {
      "text/plain": [
       "Index(['ID', 'Estimated_Insects_Count', 'Crop_Type', 'Soil_Type',\n",
       "       'Pesticide_Use_Category', 'Number_Doses_Week', 'Number_Weeks_Used',\n",
       "       'Number_Weeks_Quit', 'Season', 'Crop_Damage'],\n",
       "      dtype='object')"
      ]
     },
     "execution_count": 4,
     "metadata": {},
     "output_type": "execute_result"
    }
   ],
   "source": [
    "read_train_file.columns"
   ]
  },
  {
   "cell_type": "code",
   "execution_count": 5,
   "metadata": {},
   "outputs": [
    {
     "data": {
      "text/plain": [
       "ID                          object\n",
       "Estimated_Insects_Count      int64\n",
       "Crop_Type                    int64\n",
       "Soil_Type                    int64\n",
       "Pesticide_Use_Category       int64\n",
       "Number_Doses_Week            int64\n",
       "Number_Weeks_Used          float64\n",
       "Number_Weeks_Quit            int64\n",
       "Season                       int64\n",
       "Crop_Damage                  int64\n",
       "dtype: object"
      ]
     },
     "execution_count": 5,
     "metadata": {},
     "output_type": "execute_result"
    }
   ],
   "source": [
    "read_train_file.dtypes"
   ]
  },
  {
   "cell_type": "code",
   "execution_count": 6,
   "metadata": {},
   "outputs": [
    {
     "data": {
      "text/plain": [
       "ID                           0\n",
       "Estimated_Insects_Count      0\n",
       "Crop_Type                    0\n",
       "Soil_Type                    0\n",
       "Pesticide_Use_Category       0\n",
       "Number_Doses_Week            0\n",
       "Number_Weeks_Used          442\n",
       "Number_Weeks_Quit            0\n",
       "Season                       0\n",
       "Crop_Damage                  0\n",
       "dtype: int64"
      ]
     },
     "execution_count": 6,
     "metadata": {},
     "output_type": "execute_result"
    }
   ],
   "source": [
    "read_train_file.isnull().sum()"
   ]
  },
  {
   "cell_type": "code",
   "execution_count": 7,
   "metadata": {},
   "outputs": [],
   "source": [
    "read_train_file['Number_Weeks_Used'] = read_train_file['Number_Weeks_Used'].fillna(read_train_file['Number_Weeks_Used'].mean())\n",
    "read_train_file['Number_Weeks_Used'] = read_train_file['Number_Weeks_Used'].apply(np.floor)"
   ]
  },
  {
   "cell_type": "code",
   "execution_count": 8,
   "metadata": {},
   "outputs": [
    {
     "data": {
      "text/plain": [
       "0        0.0\n",
       "1        0.0\n",
       "2        0.0\n",
       "3        0.0\n",
       "4        0.0\n",
       "        ... \n",
       "4594    28.0\n",
       "4595    47.0\n",
       "4596     7.0\n",
       "4597    20.0\n",
       "4598    33.0\n",
       "Name: Number_Weeks_Used, Length: 4599, dtype: float64"
      ]
     },
     "execution_count": 8,
     "metadata": {},
     "output_type": "execute_result"
    }
   ],
   "source": [
    "read_train_file['Number_Weeks_Used']"
   ]
  },
  {
   "cell_type": "code",
   "execution_count": 9,
   "metadata": {},
   "outputs": [
    {
     "data": {
      "text/html": [
       "<div>\n",
       "<style scoped>\n",
       "    .dataframe tbody tr th:only-of-type {\n",
       "        vertical-align: middle;\n",
       "    }\n",
       "\n",
       "    .dataframe tbody tr th {\n",
       "        vertical-align: top;\n",
       "    }\n",
       "\n",
       "    .dataframe thead th {\n",
       "        text-align: right;\n",
       "    }\n",
       "</style>\n",
       "<table border=\"1\" class=\"dataframe\">\n",
       "  <thead>\n",
       "    <tr style=\"text-align: right;\">\n",
       "      <th></th>\n",
       "      <th>ID</th>\n",
       "      <th>Estimated_Insects_Count</th>\n",
       "      <th>Crop_Type</th>\n",
       "      <th>Soil_Type</th>\n",
       "      <th>Pesticide_Use_Category</th>\n",
       "      <th>Number_Doses_Week</th>\n",
       "      <th>Number_Weeks_Used</th>\n",
       "      <th>Number_Weeks_Quit</th>\n",
       "      <th>Season</th>\n",
       "      <th>Crop_Damage</th>\n",
       "    </tr>\n",
       "  </thead>\n",
       "  <tbody>\n",
       "    <tr>\n",
       "      <th>0</th>\n",
       "      <td>F00000001</td>\n",
       "      <td>188</td>\n",
       "      <td>1</td>\n",
       "      <td>0</td>\n",
       "      <td>1</td>\n",
       "      <td>0</td>\n",
       "      <td>0.0</td>\n",
       "      <td>0</td>\n",
       "      <td>1</td>\n",
       "      <td>0</td>\n",
       "    </tr>\n",
       "    <tr>\n",
       "      <th>1</th>\n",
       "      <td>F00000003</td>\n",
       "      <td>209</td>\n",
       "      <td>1</td>\n",
       "      <td>0</td>\n",
       "      <td>1</td>\n",
       "      <td>0</td>\n",
       "      <td>0.0</td>\n",
       "      <td>0</td>\n",
       "      <td>2</td>\n",
       "      <td>1</td>\n",
       "    </tr>\n",
       "    <tr>\n",
       "      <th>2</th>\n",
       "      <td>F00000004</td>\n",
       "      <td>257</td>\n",
       "      <td>1</td>\n",
       "      <td>0</td>\n",
       "      <td>1</td>\n",
       "      <td>0</td>\n",
       "      <td>0.0</td>\n",
       "      <td>0</td>\n",
       "      <td>2</td>\n",
       "      <td>1</td>\n",
       "    </tr>\n",
       "    <tr>\n",
       "      <th>3</th>\n",
       "      <td>F00000005</td>\n",
       "      <td>257</td>\n",
       "      <td>1</td>\n",
       "      <td>1</td>\n",
       "      <td>1</td>\n",
       "      <td>0</td>\n",
       "      <td>0.0</td>\n",
       "      <td>0</td>\n",
       "      <td>2</td>\n",
       "      <td>1</td>\n",
       "    </tr>\n",
       "    <tr>\n",
       "      <th>4</th>\n",
       "      <td>F00000006</td>\n",
       "      <td>342</td>\n",
       "      <td>1</td>\n",
       "      <td>0</td>\n",
       "      <td>1</td>\n",
       "      <td>0</td>\n",
       "      <td>0.0</td>\n",
       "      <td>0</td>\n",
       "      <td>2</td>\n",
       "      <td>1</td>\n",
       "    </tr>\n",
       "    <tr>\n",
       "      <th>...</th>\n",
       "      <td>...</td>\n",
       "      <td>...</td>\n",
       "      <td>...</td>\n",
       "      <td>...</td>\n",
       "      <td>...</td>\n",
       "      <td>...</td>\n",
       "      <td>...</td>\n",
       "      <td>...</td>\n",
       "      <td>...</td>\n",
       "      <td>...</td>\n",
       "    </tr>\n",
       "    <tr>\n",
       "      <th>4594</th>\n",
       "      <td>F00008078</td>\n",
       "      <td>2138</td>\n",
       "      <td>0</td>\n",
       "      <td>1</td>\n",
       "      <td>2</td>\n",
       "      <td>20</td>\n",
       "      <td>28.0</td>\n",
       "      <td>1</td>\n",
       "      <td>1</td>\n",
       "      <td>1</td>\n",
       "    </tr>\n",
       "    <tr>\n",
       "      <th>4595</th>\n",
       "      <td>F00008079</td>\n",
       "      <td>2139</td>\n",
       "      <td>0</td>\n",
       "      <td>1</td>\n",
       "      <td>2</td>\n",
       "      <td>30</td>\n",
       "      <td>47.0</td>\n",
       "      <td>2</td>\n",
       "      <td>1</td>\n",
       "      <td>1</td>\n",
       "    </tr>\n",
       "    <tr>\n",
       "      <th>4596</th>\n",
       "      <td>F00008080</td>\n",
       "      <td>2267</td>\n",
       "      <td>0</td>\n",
       "      <td>1</td>\n",
       "      <td>2</td>\n",
       "      <td>10</td>\n",
       "      <td>7.0</td>\n",
       "      <td>27</td>\n",
       "      <td>2</td>\n",
       "      <td>0</td>\n",
       "    </tr>\n",
       "    <tr>\n",
       "      <th>4597</th>\n",
       "      <td>F00008082</td>\n",
       "      <td>2267</td>\n",
       "      <td>0</td>\n",
       "      <td>1</td>\n",
       "      <td>2</td>\n",
       "      <td>10</td>\n",
       "      <td>20.0</td>\n",
       "      <td>24</td>\n",
       "      <td>2</td>\n",
       "      <td>0</td>\n",
       "    </tr>\n",
       "    <tr>\n",
       "      <th>4598</th>\n",
       "      <td>F00008083</td>\n",
       "      <td>2267</td>\n",
       "      <td>0</td>\n",
       "      <td>1</td>\n",
       "      <td>2</td>\n",
       "      <td>10</td>\n",
       "      <td>33.0</td>\n",
       "      <td>17</td>\n",
       "      <td>2</td>\n",
       "      <td>0</td>\n",
       "    </tr>\n",
       "  </tbody>\n",
       "</table>\n",
       "<p>4599 rows × 10 columns</p>\n",
       "</div>"
      ],
      "text/plain": [
       "             ID  Estimated_Insects_Count  Crop_Type  Soil_Type  \\\n",
       "0     F00000001                      188          1          0   \n",
       "1     F00000003                      209          1          0   \n",
       "2     F00000004                      257          1          0   \n",
       "3     F00000005                      257          1          1   \n",
       "4     F00000006                      342          1          0   \n",
       "...         ...                      ...        ...        ...   \n",
       "4594  F00008078                     2138          0          1   \n",
       "4595  F00008079                     2139          0          1   \n",
       "4596  F00008080                     2267          0          1   \n",
       "4597  F00008082                     2267          0          1   \n",
       "4598  F00008083                     2267          0          1   \n",
       "\n",
       "      Pesticide_Use_Category  Number_Doses_Week  Number_Weeks_Used  \\\n",
       "0                          1                  0                0.0   \n",
       "1                          1                  0                0.0   \n",
       "2                          1                  0                0.0   \n",
       "3                          1                  0                0.0   \n",
       "4                          1                  0                0.0   \n",
       "...                      ...                ...                ...   \n",
       "4594                       2                 20               28.0   \n",
       "4595                       2                 30               47.0   \n",
       "4596                       2                 10                7.0   \n",
       "4597                       2                 10               20.0   \n",
       "4598                       2                 10               33.0   \n",
       "\n",
       "      Number_Weeks_Quit  Season  Crop_Damage  \n",
       "0                     0       1            0  \n",
       "1                     0       2            1  \n",
       "2                     0       2            1  \n",
       "3                     0       2            1  \n",
       "4                     0       2            1  \n",
       "...                 ...     ...          ...  \n",
       "4594                  1       1            1  \n",
       "4595                  2       1            1  \n",
       "4596                 27       2            0  \n",
       "4597                 24       2            0  \n",
       "4598                 17       2            0  \n",
       "\n",
       "[4599 rows x 10 columns]"
      ]
     },
     "execution_count": 9,
     "metadata": {},
     "output_type": "execute_result"
    }
   ],
   "source": [
    "read_train_file"
   ]
  },
  {
   "cell_type": "code",
   "execution_count": 10,
   "metadata": {},
   "outputs": [],
   "source": [
    "read_train_file.drop('ID',axis=1,inplace=True)\n",
    "#Since ID column has unique value of data entry, we are going to drop this column."
   ]
  },
  {
   "cell_type": "code",
   "execution_count": 11,
   "metadata": {},
   "outputs": [
    {
     "data": {
      "text/html": [
       "<div>\n",
       "<style scoped>\n",
       "    .dataframe tbody tr th:only-of-type {\n",
       "        vertical-align: middle;\n",
       "    }\n",
       "\n",
       "    .dataframe tbody tr th {\n",
       "        vertical-align: top;\n",
       "    }\n",
       "\n",
       "    .dataframe thead th {\n",
       "        text-align: right;\n",
       "    }\n",
       "</style>\n",
       "<table border=\"1\" class=\"dataframe\">\n",
       "  <thead>\n",
       "    <tr style=\"text-align: right;\">\n",
       "      <th></th>\n",
       "      <th>Estimated_Insects_Count</th>\n",
       "      <th>Crop_Type</th>\n",
       "      <th>Soil_Type</th>\n",
       "      <th>Pesticide_Use_Category</th>\n",
       "      <th>Number_Doses_Week</th>\n",
       "      <th>Number_Weeks_Used</th>\n",
       "      <th>Number_Weeks_Quit</th>\n",
       "      <th>Season</th>\n",
       "      <th>Crop_Damage</th>\n",
       "    </tr>\n",
       "  </thead>\n",
       "  <tbody>\n",
       "    <tr>\n",
       "      <th>0</th>\n",
       "      <td>188</td>\n",
       "      <td>1</td>\n",
       "      <td>0</td>\n",
       "      <td>1</td>\n",
       "      <td>0</td>\n",
       "      <td>0.0</td>\n",
       "      <td>0</td>\n",
       "      <td>1</td>\n",
       "      <td>0</td>\n",
       "    </tr>\n",
       "    <tr>\n",
       "      <th>1</th>\n",
       "      <td>209</td>\n",
       "      <td>1</td>\n",
       "      <td>0</td>\n",
       "      <td>1</td>\n",
       "      <td>0</td>\n",
       "      <td>0.0</td>\n",
       "      <td>0</td>\n",
       "      <td>2</td>\n",
       "      <td>1</td>\n",
       "    </tr>\n",
       "    <tr>\n",
       "      <th>2</th>\n",
       "      <td>257</td>\n",
       "      <td>1</td>\n",
       "      <td>0</td>\n",
       "      <td>1</td>\n",
       "      <td>0</td>\n",
       "      <td>0.0</td>\n",
       "      <td>0</td>\n",
       "      <td>2</td>\n",
       "      <td>1</td>\n",
       "    </tr>\n",
       "    <tr>\n",
       "      <th>3</th>\n",
       "      <td>257</td>\n",
       "      <td>1</td>\n",
       "      <td>1</td>\n",
       "      <td>1</td>\n",
       "      <td>0</td>\n",
       "      <td>0.0</td>\n",
       "      <td>0</td>\n",
       "      <td>2</td>\n",
       "      <td>1</td>\n",
       "    </tr>\n",
       "    <tr>\n",
       "      <th>4</th>\n",
       "      <td>342</td>\n",
       "      <td>1</td>\n",
       "      <td>0</td>\n",
       "      <td>1</td>\n",
       "      <td>0</td>\n",
       "      <td>0.0</td>\n",
       "      <td>0</td>\n",
       "      <td>2</td>\n",
       "      <td>1</td>\n",
       "    </tr>\n",
       "    <tr>\n",
       "      <th>...</th>\n",
       "      <td>...</td>\n",
       "      <td>...</td>\n",
       "      <td>...</td>\n",
       "      <td>...</td>\n",
       "      <td>...</td>\n",
       "      <td>...</td>\n",
       "      <td>...</td>\n",
       "      <td>...</td>\n",
       "      <td>...</td>\n",
       "    </tr>\n",
       "    <tr>\n",
       "      <th>4594</th>\n",
       "      <td>2138</td>\n",
       "      <td>0</td>\n",
       "      <td>1</td>\n",
       "      <td>2</td>\n",
       "      <td>20</td>\n",
       "      <td>28.0</td>\n",
       "      <td>1</td>\n",
       "      <td>1</td>\n",
       "      <td>1</td>\n",
       "    </tr>\n",
       "    <tr>\n",
       "      <th>4595</th>\n",
       "      <td>2139</td>\n",
       "      <td>0</td>\n",
       "      <td>1</td>\n",
       "      <td>2</td>\n",
       "      <td>30</td>\n",
       "      <td>47.0</td>\n",
       "      <td>2</td>\n",
       "      <td>1</td>\n",
       "      <td>1</td>\n",
       "    </tr>\n",
       "    <tr>\n",
       "      <th>4596</th>\n",
       "      <td>2267</td>\n",
       "      <td>0</td>\n",
       "      <td>1</td>\n",
       "      <td>2</td>\n",
       "      <td>10</td>\n",
       "      <td>7.0</td>\n",
       "      <td>27</td>\n",
       "      <td>2</td>\n",
       "      <td>0</td>\n",
       "    </tr>\n",
       "    <tr>\n",
       "      <th>4597</th>\n",
       "      <td>2267</td>\n",
       "      <td>0</td>\n",
       "      <td>1</td>\n",
       "      <td>2</td>\n",
       "      <td>10</td>\n",
       "      <td>20.0</td>\n",
       "      <td>24</td>\n",
       "      <td>2</td>\n",
       "      <td>0</td>\n",
       "    </tr>\n",
       "    <tr>\n",
       "      <th>4598</th>\n",
       "      <td>2267</td>\n",
       "      <td>0</td>\n",
       "      <td>1</td>\n",
       "      <td>2</td>\n",
       "      <td>10</td>\n",
       "      <td>33.0</td>\n",
       "      <td>17</td>\n",
       "      <td>2</td>\n",
       "      <td>0</td>\n",
       "    </tr>\n",
       "  </tbody>\n",
       "</table>\n",
       "<p>4599 rows × 9 columns</p>\n",
       "</div>"
      ],
      "text/plain": [
       "      Estimated_Insects_Count  Crop_Type  Soil_Type  Pesticide_Use_Category  \\\n",
       "0                         188          1          0                       1   \n",
       "1                         209          1          0                       1   \n",
       "2                         257          1          0                       1   \n",
       "3                         257          1          1                       1   \n",
       "4                         342          1          0                       1   \n",
       "...                       ...        ...        ...                     ...   \n",
       "4594                     2138          0          1                       2   \n",
       "4595                     2139          0          1                       2   \n",
       "4596                     2267          0          1                       2   \n",
       "4597                     2267          0          1                       2   \n",
       "4598                     2267          0          1                       2   \n",
       "\n",
       "      Number_Doses_Week  Number_Weeks_Used  Number_Weeks_Quit  Season  \\\n",
       "0                     0                0.0                  0       1   \n",
       "1                     0                0.0                  0       2   \n",
       "2                     0                0.0                  0       2   \n",
       "3                     0                0.0                  0       2   \n",
       "4                     0                0.0                  0       2   \n",
       "...                 ...                ...                ...     ...   \n",
       "4594                 20               28.0                  1       1   \n",
       "4595                 30               47.0                  2       1   \n",
       "4596                 10                7.0                 27       2   \n",
       "4597                 10               20.0                 24       2   \n",
       "4598                 10               33.0                 17       2   \n",
       "\n",
       "      Crop_Damage  \n",
       "0               0  \n",
       "1               1  \n",
       "2               1  \n",
       "3               1  \n",
       "4               1  \n",
       "...           ...  \n",
       "4594            1  \n",
       "4595            1  \n",
       "4596            0  \n",
       "4597            0  \n",
       "4598            0  \n",
       "\n",
       "[4599 rows x 9 columns]"
      ]
     },
     "execution_count": 11,
     "metadata": {},
     "output_type": "execute_result"
    }
   ],
   "source": [
    "read_train_file"
   ]
  },
  {
   "cell_type": "code",
   "execution_count": 12,
   "metadata": {},
   "outputs": [
    {
     "data": {
      "text/plain": [
       "<AxesSubplot:>"
      ]
     },
     "execution_count": 12,
     "metadata": {},
     "output_type": "execute_result"
    },
    {
     "data": {
      "image/png": "[encoded data removed]",
      "text/plain": [
       "<Figure size 432x288 with 2 Axes>"
      ]
     },
     "metadata": {
      "needs_background": "light"
     },
     "output_type": "display_data"
    }
   ],
   "source": [
    "sns.heatmap(read_train_file.isnull())  # heatmap also indicates that there are no null values in dataset."
   ]
  },
  {
   "cell_type": "code",
   "execution_count": 13,
   "metadata": {},
   "outputs": [
    {
     "data": {
      "text/html": [
       "<div>\n",
       "<style scoped>\n",
       "    .dataframe tbody tr th:only-of-type {\n",
       "        vertical-align: middle;\n",
       "    }\n",
       "\n",
       "    .dataframe tbody tr th {\n",
       "        vertical-align: top;\n",
       "    }\n",
       "\n",
       "    .dataframe thead th {\n",
       "        text-align: right;\n",
       "    }\n",
       "</style>\n",
       "<table border=\"1\" class=\"dataframe\">\n",
       "  <thead>\n",
       "    <tr style=\"text-align: right;\">\n",
       "      <th></th>\n",
       "      <th>Estimated_Insects_Count</th>\n",
       "      <th>Crop_Type</th>\n",
       "      <th>Soil_Type</th>\n",
       "      <th>Pesticide_Use_Category</th>\n",
       "      <th>Number_Doses_Week</th>\n",
       "      <th>Number_Weeks_Used</th>\n",
       "      <th>Number_Weeks_Quit</th>\n",
       "      <th>Season</th>\n",
       "      <th>Crop_Damage</th>\n",
       "    </tr>\n",
       "  </thead>\n",
       "  <tbody>\n",
       "    <tr>\n",
       "      <th>count</th>\n",
       "      <td>4599.000000</td>\n",
       "      <td>4599.000000</td>\n",
       "      <td>4599.000000</td>\n",
       "      <td>4599.000000</td>\n",
       "      <td>4599.000000</td>\n",
       "      <td>4599.000000</td>\n",
       "      <td>4599.000000</td>\n",
       "      <td>4599.000000</td>\n",
       "      <td>4599.000000</td>\n",
       "    </tr>\n",
       "    <tr>\n",
       "      <th>mean</th>\n",
       "      <td>1363.000435</td>\n",
       "      <td>0.224831</td>\n",
       "      <td>0.476625</td>\n",
       "      <td>2.283540</td>\n",
       "      <td>26.477495</td>\n",
       "      <td>28.805392</td>\n",
       "      <td>9.205479</td>\n",
       "      <td>1.894325</td>\n",
       "      <td>0.194390</td>\n",
       "    </tr>\n",
       "    <tr>\n",
       "      <th>std</th>\n",
       "      <td>814.439120</td>\n",
       "      <td>0.417517</td>\n",
       "      <td>0.499508</td>\n",
       "      <td>0.471978</td>\n",
       "      <td>15.524647</td>\n",
       "      <td>11.968667</td>\n",
       "      <td>9.713253</td>\n",
       "      <td>0.694952</td>\n",
       "      <td>0.454597</td>\n",
       "    </tr>\n",
       "    <tr>\n",
       "      <th>min</th>\n",
       "      <td>150.000000</td>\n",
       "      <td>0.000000</td>\n",
       "      <td>0.000000</td>\n",
       "      <td>1.000000</td>\n",
       "      <td>0.000000</td>\n",
       "      <td>0.000000</td>\n",
       "      <td>0.000000</td>\n",
       "      <td>1.000000</td>\n",
       "      <td>0.000000</td>\n",
       "    </tr>\n",
       "    <tr>\n",
       "      <th>25%</th>\n",
       "      <td>731.000000</td>\n",
       "      <td>0.000000</td>\n",
       "      <td>0.000000</td>\n",
       "      <td>2.000000</td>\n",
       "      <td>15.000000</td>\n",
       "      <td>20.000000</td>\n",
       "      <td>0.000000</td>\n",
       "      <td>1.000000</td>\n",
       "      <td>0.000000</td>\n",
       "    </tr>\n",
       "    <tr>\n",
       "      <th>50%</th>\n",
       "      <td>1212.000000</td>\n",
       "      <td>0.000000</td>\n",
       "      <td>0.000000</td>\n",
       "      <td>2.000000</td>\n",
       "      <td>20.000000</td>\n",
       "      <td>28.000000</td>\n",
       "      <td>7.000000</td>\n",
       "      <td>2.000000</td>\n",
       "      <td>0.000000</td>\n",
       "    </tr>\n",
       "    <tr>\n",
       "      <th>75%</th>\n",
       "      <td>1786.000000</td>\n",
       "      <td>0.000000</td>\n",
       "      <td>1.000000</td>\n",
       "      <td>3.000000</td>\n",
       "      <td>40.000000</td>\n",
       "      <td>36.000000</td>\n",
       "      <td>16.000000</td>\n",
       "      <td>2.000000</td>\n",
       "      <td>0.000000</td>\n",
       "    </tr>\n",
       "    <tr>\n",
       "      <th>max</th>\n",
       "      <td>4097.000000</td>\n",
       "      <td>1.000000</td>\n",
       "      <td>1.000000</td>\n",
       "      <td>3.000000</td>\n",
       "      <td>95.000000</td>\n",
       "      <td>66.000000</td>\n",
       "      <td>47.000000</td>\n",
       "      <td>3.000000</td>\n",
       "      <td>2.000000</td>\n",
       "    </tr>\n",
       "  </tbody>\n",
       "</table>\n",
       "</div>"
      ],
      "text/plain": [
       "       Estimated_Insects_Count    Crop_Type    Soil_Type  \\\n",
       "count              4599.000000  4599.000000  4599.000000   \n",
       "mean               1363.000435     0.224831     0.476625   \n",
       "std                 814.439120     0.417517     0.499508   \n",
       "min                 150.000000     0.000000     0.000000   \n",
       "25%                 731.000000     0.000000     0.000000   \n",
       "50%                1212.000000     0.000000     0.000000   \n",
       "75%                1786.000000     0.000000     1.000000   \n",
       "max                4097.000000     1.000000     1.000000   \n",
       "\n",
       "       Pesticide_Use_Category  Number_Doses_Week  Number_Weeks_Used  \\\n",
       "count             4599.000000        4599.000000        4599.000000   \n",
       "mean                 2.283540          26.477495          28.805392   \n",
       "std                  0.471978          15.524647          11.968667   \n",
       "min                  1.000000           0.000000           0.000000   \n",
       "25%                  2.000000          15.000000          20.000000   \n",
       "50%                  2.000000          20.000000          28.000000   \n",
       "75%                  3.000000          40.000000          36.000000   \n",
       "max                  3.000000          95.000000          66.000000   \n",
       "\n",
       "       Number_Weeks_Quit       Season  Crop_Damage  \n",
       "count        4599.000000  4599.000000  4599.000000  \n",
       "mean            9.205479     1.894325     0.194390  \n",
       "std             9.713253     0.694952     0.454597  \n",
       "min             0.000000     1.000000     0.000000  \n",
       "25%             0.000000     1.000000     0.000000  \n",
       "50%             7.000000     2.000000     0.000000  \n",
       "75%            16.000000     2.000000     0.000000  \n",
       "max            47.000000     3.000000     2.000000  "
      ]
     },
     "execution_count": 13,
     "metadata": {},
     "output_type": "execute_result"
    }
   ],
   "source": [
    "read_train_file.describe()"
   ]
  },
  {
   "cell_type": "code",
   "execution_count": 14,
   "metadata": {},
   "outputs": [],
   "source": [
    "#since difference between mean and std is not big, this indicates that data is not highly skewed."
   ]
  },
  {
   "cell_type": "code",
   "execution_count": 15,
   "metadata": {},
   "outputs": [
    {
     "data": {
      "text/plain": [
       "Estimated_Insects_Count       AxesSubplot(0.125,0.657941;0.227941x0.222059)\n",
       "Crop_Type                  AxesSubplot(0.398529,0.657941;0.227941x0.222059)\n",
       "Soil_Type                  AxesSubplot(0.672059,0.657941;0.227941x0.222059)\n",
       "Pesticide_Use_Category        AxesSubplot(0.125,0.391471;0.227941x0.222059)\n",
       "Number_Doses_Week          AxesSubplot(0.398529,0.391471;0.227941x0.222059)\n",
       "Number_Weeks_Used          AxesSubplot(0.672059,0.391471;0.227941x0.222059)\n",
       "Number_Weeks_Quit                AxesSubplot(0.125,0.125;0.227941x0.222059)\n",
       "Season                        AxesSubplot(0.398529,0.125;0.227941x0.222059)\n",
       "Crop_Damage                   AxesSubplot(0.672059,0.125;0.227941x0.222059)\n",
       "dtype: object"
      ]
     },
     "execution_count": 15,
     "metadata": {},
     "output_type": "execute_result"
    },
    {
     "data": {
      "image/png": "[encoded data removed]",
      "text/plain": [
       "<Figure size 720x720 with 9 Axes>"
      ]
     },
     "metadata": {
      "needs_background": "light"
     },
     "output_type": "display_data"
    }
   ],
   "source": [
    "read_train_file.plot(kind='box',subplots=True,layout=(3,3),figsize=(10,10))"
   ]
  },
  {
   "cell_type": "code",
   "execution_count": 16,
   "metadata": {},
   "outputs": [],
   "source": [
    "#from above figures we can see that there are outliers present in 'Estimated_Insects_Count','Number_Doses_Week',\n",
    "#'Numbner_Weeks_Used' and in 'Number_Weeks_quit' for which we need to work upon"
   ]
  },
  {
   "cell_type": "code",
   "execution_count": 17,
   "metadata": {},
   "outputs": [
    {
     "data": {
      "text/plain": [
       "array([[1.44286807, 1.85681868, 0.95429408, ..., 0.94782668, 1.28702725,\n",
       "        0.42765624],\n",
       "       [1.41708065, 1.85681868, 0.95429408, ..., 0.94782668, 0.15207762,\n",
       "        1.77233374],\n",
       "       [1.35813798, 1.85681868, 0.95429408, ..., 0.94782668, 0.15207762,\n",
       "        1.77233374],\n",
       "       ...,\n",
       "       [1.11008649, 0.53855555, 1.04789501, ..., 1.83218282, 0.15207762,\n",
       "        0.42765624],\n",
       "       [1.11008649, 0.53855555, 1.04789501, ..., 1.52329287, 0.15207762,\n",
       "        0.42765624],\n",
       "       [1.11008649, 0.53855555, 1.04789501, ..., 0.80254967, 0.15207762,\n",
       "        0.42765624]])"
      ]
     },
     "execution_count": 17,
     "metadata": {},
     "output_type": "execute_result"
    }
   ],
   "source": [
    "from scipy.stats import zscore\n",
    "z=np.abs(zscore(read_train_file))\n",
    "z"
   ]
  },
  {
   "cell_type": "code",
   "execution_count": 18,
   "metadata": {},
   "outputs": [],
   "source": [
    "data_new = read_train_file[(z<3).all(axis = 1)]"
   ]
  },
  {
   "cell_type": "code",
   "execution_count": 19,
   "metadata": {},
   "outputs": [
    {
     "data": {
      "text/plain": [
       "(4370, 9)"
      ]
     },
     "execution_count": 19,
     "metadata": {},
     "output_type": "execute_result"
    }
   ],
   "source": [
    "data_new.shape"
   ]
  },
  {
   "cell_type": "code",
   "execution_count": 20,
   "metadata": {},
   "outputs": [
    {
     "data": {
      "text/plain": [
       "(4599, 9)"
      ]
     },
     "execution_count": 20,
     "metadata": {},
     "output_type": "execute_result"
    }
   ],
   "source": [
    "read_train_file.shape"
   ]
  },
  {
   "cell_type": "code",
   "execution_count": 21,
   "metadata": {},
   "outputs": [],
   "source": [
    "#We can see that of outliers are rmeoved by using score mothed, there is almost 5% data loss but since our data set is big\n",
    "# we will remove outliers\n",
    "read_train_file = data_new"
   ]
  },
  {
   "cell_type": "code",
   "execution_count": 22,
   "metadata": {},
   "outputs": [
    {
     "data": {
      "text/plain": [
       "Estimated_Insects_Count       AxesSubplot(0.125,0.657941;0.227941x0.222059)\n",
       "Crop_Type                  AxesSubplot(0.398529,0.657941;0.227941x0.222059)\n",
       "Soil_Type                  AxesSubplot(0.672059,0.657941;0.227941x0.222059)\n",
       "Pesticide_Use_Category        AxesSubplot(0.125,0.391471;0.227941x0.222059)\n",
       "Number_Doses_Week          AxesSubplot(0.398529,0.391471;0.227941x0.222059)\n",
       "Number_Weeks_Used          AxesSubplot(0.672059,0.391471;0.227941x0.222059)\n",
       "Number_Weeks_Quit                AxesSubplot(0.125,0.125;0.227941x0.222059)\n",
       "Season                        AxesSubplot(0.398529,0.125;0.227941x0.222059)\n",
       "Crop_Damage                   AxesSubplot(0.672059,0.125;0.227941x0.222059)\n",
       "dtype: object"
      ]
     },
     "execution_count": 22,
     "metadata": {},
     "output_type": "execute_result"
    },
    {
     "data": {
      "image/png": "[encoded data removed]",
      "text/plain": [
       "<Figure size 720x720 with 9 Axes>"
      ]
     },
     "metadata": {
      "needs_background": "light"
     },
     "output_type": "display_data"
    }
   ],
   "source": [
    "read_train_file.plot(kind='box',subplots=True,layout=(3,3),figsize=(10,10))"
   ]
  },
  {
   "cell_type": "code",
   "execution_count": 23,
   "metadata": {},
   "outputs": [],
   "source": [
    "#Now we can see there are outlers present in only 'Estimated_Insects_Count' and 'Number_Weeks_Used' columns only."
   ]
  },
  {
   "cell_type": "code",
   "execution_count": 24,
   "metadata": {},
   "outputs": [
    {
     "data": {
      "text/plain": [
       "Estimated_Insects_Count    0.789806\n",
       "Crop_Type                  1.308548\n",
       "Soil_Type                  0.079724\n",
       "Pesticide_Use_Category     0.753578\n",
       "Number_Doses_Week          0.711083\n",
       "Number_Weeks_Used          0.297574\n",
       "Number_Weeks_Quit          0.813382\n",
       "Season                     0.141605\n",
       "Crop_Damage                2.003206\n",
       "dtype: float64"
      ]
     },
     "execution_count": 24,
     "metadata": {},
     "output_type": "execute_result"
    }
   ],
   "source": [
    "read_train_file.skew()"
   ]
  },
  {
   "cell_type": "code",
   "execution_count": 25,
   "metadata": {},
   "outputs": [],
   "source": [
    "#Above skewness also indicates that data is not highly disperse/skewed"
   ]
  },
  {
   "cell_type": "code",
   "execution_count": 26,
   "metadata": {},
   "outputs": [
    {
     "data": {
      "image/png": "[encoded data removed]",
      "text/plain": [
       "<Figure size 576x504 with 2 Axes>"
      ]
     },
     "metadata": {
      "needs_background": "light"
     },
     "output_type": "display_data"
    }
   ],
   "source": [
    "corr= read_train_file.corr()\n",
    "plt.figure(figsize=(8,7))\n",
    "sns.heatmap(corr,annot=True,linewidths=.5)\n",
    "plt.show()"
   ]
  },
  {
   "cell_type": "code",
   "execution_count": 27,
   "metadata": {},
   "outputs": [],
   "source": [
    "#Above heatmap indicates that columns 'Number_Weeks_used' and 'Number_Weeks_Quit' are very negatively correlated with each other"
   ]
  },
  {
   "cell_type": "code",
   "execution_count": 28,
   "metadata": {},
   "outputs": [
    {
     "data": {
      "text/plain": [
       "<AxesSubplot:ylabel='Frequency'>"
      ]
     },
     "execution_count": 28,
     "metadata": {},
     "output_type": "execute_result"
    },
    {
     "data": {
      "image/png": "[encoded data removed]",
      "text/plain": [
       "<Figure size 432x288 with 1 Axes>"
      ]
     },
     "metadata": {
      "needs_background": "light"
     },
     "output_type": "display_data"
    }
   ],
   "source": [
    "read_train_file['Number_Weeks_Used'].plot.hist()"
   ]
  },
  {
   "cell_type": "code",
   "execution_count": 29,
   "metadata": {},
   "outputs": [
    {
     "data": {
      "text/plain": [
       "<AxesSubplot:ylabel='Frequency'>"
      ]
     },
     "execution_count": 29,
     "metadata": {},
     "output_type": "execute_result"
    },
    {
     "data": {
      "image/png": "[encoded data removed]",
      "text/plain": [
       "<Figure size 432x288 with 1 Axes>"
      ]
     },
     "metadata": {
      "needs_background": "light"
     },
     "output_type": "display_data"
    }
   ],
   "source": [
    "read_train_file['Estimated_Insects_Count'].plot.hist()"
   ]
  },
  {
   "cell_type": "code",
   "execution_count": 30,
   "metadata": {},
   "outputs": [],
   "source": [
    "#We can see 'Estimated_Insects_Count' column is right skewed and hence we are going to treat skewnesss "
   ]
  },
  {
   "cell_type": "code",
   "execution_count": 31,
   "metadata": {},
   "outputs": [],
   "source": [
    "x = read_train_file.iloc[:,0:-1]"
   ]
  },
  {
   "cell_type": "code",
   "execution_count": 32,
   "metadata": {},
   "outputs": [
    {
     "data": {
      "text/plain": [
       "(4370, 8)"
      ]
     },
     "execution_count": 32,
     "metadata": {},
     "output_type": "execute_result"
    }
   ],
   "source": [
    "x.shape"
   ]
  },
  {
   "cell_type": "code",
   "execution_count": 33,
   "metadata": {},
   "outputs": [],
   "source": [
    "y = read_train_file.iloc[:,-1]"
   ]
  },
  {
   "cell_type": "code",
   "execution_count": 34,
   "metadata": {},
   "outputs": [
    {
     "data": {
      "text/plain": [
       "(4370,)"
      ]
     },
     "execution_count": 34,
     "metadata": {},
     "output_type": "execute_result"
    }
   ],
   "source": [
    "y.shape"
   ]
  },
  {
   "cell_type": "code",
   "execution_count": 35,
   "metadata": {},
   "outputs": [],
   "source": [
    "from sklearn.preprocessing import power_transform\n",
    "read_train_file= power_transform(read_train_file, method = 'yeo-johnson')"
   ]
  },
  {
   "cell_type": "code",
   "execution_count": 36,
   "metadata": {},
   "outputs": [
    {
     "name": "stdout",
     "output_type": "stream",
     "text": [
      "Best accuracy score is: 0.8775743707093822 of model: SVC() with best random state value is: 71\n"
     ]
    }
   ],
   "source": [
    "models = [KNeighborsClassifier(),DecisionTreeClassifier(),SVC(),RandomForestClassifier()]\n",
    "max_score = 0\n",
    "for i in range(1,100):\n",
    "    train_x,test_x,train_y,test_y=train_test_split(x,y,test_size=.20,random_state=i)\n",
    "    for j in models:\n",
    "        j.fit(train_x,train_y)\n",
    "        pred=j.predict(test_x)\n",
    "        temp_score=accuracy_score(pred,test_y)\n",
    "        if temp_score > max_score:\n",
    "            max_score = temp_score\n",
    "            final_temp_state = i\n",
    "            best_model = j\n",
    "print(\"Best accuracy score is:\",max_score,\"of model:\",best_model,\"with best random state value is:\",final_temp_state)"
   ]
  },
  {
   "cell_type": "code",
   "execution_count": 37,
   "metadata": {},
   "outputs": [
    {
     "name": "stdout",
     "output_type": "stream",
     "text": [
      "Accuracy score using kerner: rbf is : 0.8775743707093822\n",
      "Accuracy score using kerner: poly is : 0.8775743707093822\n"
     ]
    }
   ],
   "source": [
    "kernel = ['rbf','poly']\n",
    "for i in kernel:\n",
    "    svc=SVC(kernel = i)\n",
    "    train_x,test_x,train_y,test_y=train_test_split(x,y,test_size=.20,random_state=final_temp_state)\n",
    "    svc.fit(train_x,train_y)\n",
    "    predsvc = svc.predict(test_x)\n",
    "    #print(\"Predicted values using DecisionTree model:\\n\",preddtc)\n",
    "    print(\"Accuracy score using kerner:\",i,\"is :\",accuracy_score(predsvc,test_y))"
   ]
  },
  {
   "cell_type": "code",
   "execution_count": 38,
   "metadata": {},
   "outputs": [],
   "source": [
    "# from above we can see that accuracy score is same by using both options of kernel parameter of SVC algorithm and hence we will\n",
    "#use default version of kernel i.e rbf"
   ]
  },
  {
   "cell_type": "code",
   "execution_count": 39,
   "metadata": {},
   "outputs": [
    {
     "name": "stdout",
     "output_type": "stream",
     "text": [
      "Accuracy score: 0.8775743707093822\n",
      "Confusion matrix:\n",
      " [[767   0]\n",
      " [107   0]]\n",
      "Classification report:               precision    recall  f1-score   support\n",
      "\n",
      "           0       0.88      1.00      0.93       767\n",
      "           1       0.00      0.00      0.00       107\n",
      "\n",
      "    accuracy                           0.88       874\n",
      "   macro avg       0.44      0.50      0.47       874\n",
      "weighted avg       0.77      0.88      0.82       874\n",
      "\n"
     ]
    }
   ],
   "source": [
    "svc=SVC()\n",
    "train_x,test_x,train_y,test_y=train_test_split(x,y,test_size=.20,random_state=final_temp_state)\n",
    "svc.fit(train_x,train_y)\n",
    "predsvc = svc.predict(test_x)\n",
    "#print(\"Predicted values using SVC model:\\n\",predsvc)\n",
    "#print(\"Actul values are:\", test_y)\n",
    "print(\"Accuracy score:\",accuracy_score(predsvc,test_y))\n",
    "print(\"Confusion matrix:\\n\", confusion_matrix(test_y, predsvc))\n",
    "print(\"Classification report:\",classification_report(test_y,predsvc))"
   ]
  },
  {
   "cell_type": "code",
   "execution_count": 40,
   "metadata": {},
   "outputs": [
    {
     "name": "stdout",
     "output_type": "stream",
     "text": [
      "Cross validation score is= [0.85469108 0.85354691 0.85354691 0.85354691 0.85354691]\n",
      "Cross validation mean score is= 0.8537757437070939\n",
      "Cross validation standard deviation score is= 0.00045766590389013646\n"
     ]
    }
   ],
   "source": [
    "cross_score=cross_val_score(svc,x,y,cv=5)\n",
    "print(\"Cross validation score is=\",cross_score)\n",
    "print(\"Cross validation mean score is=\",cross_score.mean())\n",
    "print(\"Cross validation standard deviation score is=\",cross_score.std())"
   ]
  },
  {
   "cell_type": "code",
   "execution_count": 41,
   "metadata": {},
   "outputs": [],
   "source": [
    "from sklearn.ensemble import AdaBoostClassifier, GradientBoostingClassifier"
   ]
  },
  {
   "cell_type": "code",
   "execution_count": 42,
   "metadata": {},
   "outputs": [
    {
     "name": "stdout",
     "output_type": "stream",
     "text": [
      "Accuracy score: 0.8775743707093822\n"
     ]
    }
   ],
   "source": [
    "abc = AdaBoostClassifier(n_estimators=50,base_estimator=svc,learning_rate=1,algorithm='SAMME')\n",
    "#dtc=DecisionTreeClassifier()\n",
    "train_x,test_x,train_y,test_y=train_test_split(x,y,test_size=.20,random_state=final_temp_state)\n",
    "abc.fit(train_x,train_y)\n",
    "predabc = abc.predict(test_x)\n",
    "print(\"Accuracy score:\",accuracy_score(predabc,test_y))\n",
    "#print(\"Predicted values using AdaBoostClassifier model:\\n\",predabc)\n",
    "#print(\"Accuracy score:\",accuracy_score(predabc,test_y))"
   ]
  },
  {
   "cell_type": "code",
   "execution_count": 43,
   "metadata": {},
   "outputs": [
    {
     "name": "stdout",
     "output_type": "stream",
     "text": [
      "Best learnin rate is: 0.5\n",
      "Best learning score is: 0.8844393592677345\n"
     ]
    }
   ],
   "source": [
    "lr_list = [0.05, 0.075, 0.1, 0.25, 0.5, 0.75, 1]\n",
    "temp_score = 0\n",
    "temp_rate = 0\n",
    "for i in lr_list:\n",
    "    gb_clf = GradientBoostingClassifier(n_estimators=50, learning_rate=i, max_features=2, max_depth=2, random_state=final_temp_state)\n",
    "    gb_clf.fit(train_x,train_y)   \n",
    "    score = gb_clf.score(test_x, test_y)\n",
    "    if score > temp_score:\n",
    "        temp_score = score\n",
    "        temp_rate = i\n",
    "print(\"Best learnin rate is:\",temp_rate)\n",
    "print(\"Best learning score is:\",temp_score)"
   ]
  },
  {
   "cell_type": "code",
   "execution_count": 44,
   "metadata": {},
   "outputs": [
    {
     "name": "stdout",
     "output_type": "stream",
     "text": [
      "Accuracy score: 0.8844393592677345\n"
     ]
    }
   ],
   "source": [
    "gb_clf = GradientBoostingClassifier(n_estimators=50, learning_rate=temp_rate, max_features=2, max_depth=2, random_state=final_temp_state)\n",
    "gb_clf.fit(train_x,train_y)\n",
    "predgb = gb_clf.predict(test_x)\n",
    "#score = gb_clf.score(test_x, test_y)\n",
    "print(\"Accuracy score:\",accuracy_score(predgb,test_y))"
   ]
  },
  {
   "cell_type": "code",
   "execution_count": 45,
   "metadata": {},
   "outputs": [
    {
     "name": "stdout",
     "output_type": "stream",
     "text": [
      "Cross validation score is= [0.82951945 0.84668192 0.86727689 0.85354691 0.84668192]\n",
      "Cross validation mean score is= 0.8487414187643021\n",
      "Cross validation standard deviation score is= 0.012203470595856624\n"
     ]
    }
   ],
   "source": [
    "cross_score=cross_val_score(gb_clf,x,y,cv=5)\n",
    "print(\"Cross validation score is=\",cross_score)\n",
    "print(\"Cross validation mean score is=\",cross_score.mean())\n",
    "print(\"Cross validation standard deviation score is=\",cross_score.std())"
   ]
  },
  {
   "cell_type": "code",
   "execution_count": 46,
   "metadata": {},
   "outputs": [],
   "source": [
    "# By looking at accuracy score and cross validation mean score of SVC and GradientBoosting which are almost same we will\n",
    "# be using GradientBoosting algorithm for our final model."
   ]
  },
  {
   "cell_type": "code",
   "execution_count": 47,
   "metadata": {},
   "outputs": [],
   "source": [
    "from sklearn.metrics import roc_auc_score,roc_curve"
   ]
  },
  {
   "cell_type": "code",
   "execution_count": 48,
   "metadata": {},
   "outputs": [
    {
     "name": "stdout",
     "output_type": "stream",
     "text": [
      "[0.         0.         0.         0.00130378 0.00130378 0.00521512\n",
      " 0.00521512 0.00782269 0.00782269 0.00912647 0.00912647 0.01043025\n",
      " 0.01043025 0.01173403 0.01173403 0.01564537 0.01564537 0.01694915\n",
      " 0.01694915 0.02346806 0.02346806 0.03389831 0.03389831 0.03780965\n",
      " 0.03780965 0.04432855 0.04432855 0.04563233 0.04563233 0.04693611\n",
      " 0.04693611 0.04954368 0.04954368 0.05345502 0.05345502 0.05606258\n",
      " 0.05606258 0.05867014 0.05867014 0.06258149 0.06258149 0.06388527\n",
      " 0.06388527 0.07040417 0.07170795 0.07301173 0.07301173 0.07431551\n",
      " 0.07431551 0.0756193  0.0756193  0.07953064 0.07953064 0.08344198\n",
      " 0.08344198 0.08474576 0.08604954 0.08735332 0.08735332 0.08996089\n",
      " 0.08996089 0.09256845 0.10169492 0.10560626 0.11212516 0.11212516\n",
      " 0.11734029 0.11734029 0.12907432 0.12907432 0.15254237 0.15384615\n",
      " 0.15514993 0.1577575  0.16949153 0.17079531 0.17079531 0.17209909\n",
      " 0.17209909 0.17601043 0.17601043 0.18252934 0.18252934 0.19556714\n",
      " 0.19556714 0.20208605 0.20338983 0.20338983 0.20730117 0.20990874\n",
      " 0.21121252 0.21382008 0.22164276 0.22425033 0.23207301 0.23207301\n",
      " 0.23598435 0.23598435 0.2398957  0.2398957  0.24119948 0.24380704\n",
      " 0.2464146  0.2464146  0.25945241 0.26205997 0.27640156 0.27640156\n",
      " 0.30769231 0.30899609 0.31421121 0.31421121 0.32073012 0.32073012\n",
      " 0.32464146 0.32724902 0.32985658 0.33116037 0.33376793 0.33637549\n",
      " 0.33637549 0.34028683 0.34028683 0.34419817 0.34419817 0.34550196\n",
      " 0.34810952 0.36375489 0.36375489 0.37157757 0.37157757 0.37288136\n",
      " 0.37288136 0.37548892 0.37809648 0.38200782 0.38461538 0.38591917\n",
      " 0.38852673 0.42633638 0.42633638 0.42894394 0.43024772 0.43937419\n",
      " 0.44198175 0.45110821 0.45110821 0.4589309  0.46153846 0.46936115\n",
      " 0.46936115 0.47066493 0.47327249 0.47457627 0.47718383 0.49022164\n",
      " 0.49022164 0.50456323 0.50586701 0.5136897  0.5136897  0.5202086\n",
      " 0.52151239 0.53976532 0.53976532 0.54498044 0.54498044 0.55019557\n",
      " 0.55019557 0.55149935 0.55410691 0.55932203 0.5619296  0.5684485\n",
      " 0.57105606 0.57757497 0.57757497 0.57887875 0.57887875 0.58409387\n",
      " 0.58670143 0.61538462 0.61799218 0.61929596 0.6232073  0.63102999\n",
      " 0.63363755 0.64537158 0.64797914 0.68318123 0.68578879 0.69100391\n",
      " 0.69491525 0.69752282 0.70273794 0.7053455  0.70925684 0.71838331\n",
      " 0.72099087 0.726206   0.73142112 0.73794003 0.73794003 0.74054759\n",
      " 0.74315515 0.74706649 0.75097784 0.7535854  0.76140808 0.76140808\n",
      " 0.76792699 0.77053455 0.77574967 0.77574967 0.77835724 0.78226858\n",
      " 0.78487614 0.79139505 0.79139505 0.79530639 0.79791395 0.8083442\n",
      " 0.81355932 0.8357236  0.83833116 0.84354628 0.84615385 0.85006519\n",
      " 0.85267275 0.85267275 0.85528031 0.85788787 0.87353325 0.87614081\n",
      " 0.90482399 0.90743155 0.90873533 0.90873533 0.91395046 0.91655802\n",
      " 0.91916558 0.92177314 0.9243807  0.92829205 0.93089961 0.93481095\n",
      " 0.9517601  0.95436767 0.98956975 0.99217731 1.        ]\n",
      "[0.         0.00934579 0.02803738 0.02803738 0.03738318 0.03738318\n",
      " 0.08411215 0.08411215 0.09345794 0.09345794 0.10280374 0.10280374\n",
      " 0.11214953 0.11214953 0.14953271 0.14953271 0.1682243  0.1682243\n",
      " 0.18691589 0.18691589 0.19626168 0.19626168 0.24299065 0.24299065\n",
      " 0.28037383 0.28037383 0.28971963 0.28971963 0.29906542 0.29906542\n",
      " 0.30841121 0.30841121 0.35514019 0.35514019 0.36448598 0.36448598\n",
      " 0.37383178 0.37383178 0.38317757 0.38317757 0.41121495 0.41121495\n",
      " 0.42990654 0.42990654 0.43925234 0.43925234 0.44859813 0.44859813\n",
      " 0.45794393 0.45794393 0.46728972 0.46728972 0.47663551 0.47663551\n",
      " 0.4953271  0.4953271  0.51401869 0.51401869 0.53271028 0.53271028\n",
      " 0.54205607 0.54205607 0.54205607 0.54205607 0.54205607 0.55140187\n",
      " 0.55140187 0.56074766 0.56074766 0.57009346 0.57009346 0.57943925\n",
      " 0.57943925 0.57943925 0.57943925 0.58878505 0.59813084 0.59813084\n",
      " 0.60747664 0.60747664 0.61682243 0.61682243 0.62616822 0.62616822\n",
      " 0.63551402 0.63551402 0.64485981 0.65420561 0.65420561 0.65420561\n",
      " 0.65420561 0.6635514  0.6635514  0.6635514  0.6635514  0.6728972\n",
      " 0.6728972  0.68224299 0.68224299 0.69158879 0.69158879 0.69158879\n",
      " 0.69158879 0.70093458 0.70093458 0.70093458 0.70093458 0.71028037\n",
      " 0.71028037 0.71962617 0.71962617 0.72897196 0.72897196 0.73831776\n",
      " 0.73831776 0.73831776 0.73831776 0.74766355 0.74766355 0.74766355\n",
      " 0.77570093 0.77570093 0.78504673 0.78504673 0.79439252 0.79439252\n",
      " 0.79439252 0.79439252 0.80373832 0.80373832 0.81308411 0.81308411\n",
      " 0.82242991 0.82242991 0.82242991 0.82242991 0.82242991 0.82242991\n",
      " 0.82242991 0.82242991 0.8317757  0.8317757  0.8411215  0.8411215\n",
      " 0.8411215  0.8411215  0.85046729 0.85046729 0.85046729 0.85046729\n",
      " 0.85981308 0.85981308 0.85981308 0.85981308 0.85981308 0.85981308\n",
      " 0.86915888 0.86915888 0.87850467 0.87850467 0.88785047 0.88785047\n",
      " 0.89719626 0.89719626 0.90654206 0.90654206 0.91588785 0.91588785\n",
      " 0.92523364 0.92523364 0.92523364 0.92523364 0.92523364 0.92523364\n",
      " 0.92523364 0.92523364 0.93457944 0.93457944 0.94392523 0.94392523\n",
      " 0.94392523 0.94392523 0.94392523 0.94392523 0.94392523 0.94392523\n",
      " 0.94392523 0.94392523 0.94392523 0.94392523 0.94392523 0.94392523\n",
      " 0.94392523 0.94392523 0.94392523 0.94392523 0.94392523 0.94392523\n",
      " 0.94392523 0.94392523 0.94392523 0.94392523 0.95327103 0.95327103\n",
      " 0.95327103 0.95327103 0.95327103 0.95327103 0.95327103 0.96261682\n",
      " 0.96261682 0.96261682 0.96261682 0.97196262 0.97196262 0.97196262\n",
      " 0.97196262 0.97196262 0.98130841 0.98130841 0.98130841 0.98130841\n",
      " 0.98130841 0.98130841 0.98130841 0.98130841 0.98130841 0.98130841\n",
      " 0.98130841 0.99065421 0.99065421 0.99065421 0.99065421 0.99065421\n",
      " 0.99065421 0.99065421 0.99065421 1.         1.         1.\n",
      " 1.         1.         1.         1.         1.         1.\n",
      " 1.         1.         1.         1.         1.        ]\n",
      "[1.95696491 0.95696491 0.92821361 0.77217311 0.75107927 0.69964622\n",
      " 0.61560207 0.58777361 0.58689932 0.58429712 0.57070887 0.5543562\n",
      " 0.54507933 0.54002365 0.52564155 0.49162255 0.47032406 0.46917179\n",
      " 0.46774165 0.45160477 0.44986016 0.4341745  0.42396792 0.41885015\n",
      " 0.41560461 0.4045632  0.39846436 0.39730847 0.39579855 0.39196259\n",
      " 0.38937392 0.38872585 0.3773421  0.37026095 0.36891097 0.365621\n",
      " 0.36346488 0.36098112 0.3607598  0.35860105 0.34477024 0.33974119\n",
      " 0.33885566 0.3277255  0.32762231 0.325087   0.32248004 0.32237395\n",
      " 0.32035119 0.31522968 0.31384577 0.31168313 0.30911638 0.30425825\n",
      " 0.30162349 0.30002251 0.29579419 0.29552209 0.29132093 0.28928544\n",
      " 0.28627957 0.28461462 0.27776703 0.2757088  0.26907703 0.26707748\n",
      " 0.26066284 0.25942199 0.25296544 0.25275744 0.23304628 0.23287312\n",
      " 0.2295632  0.22941225 0.2210764  0.21961466 0.21922305 0.21920015\n",
      " 0.21690634 0.21561045 0.21522018 0.20907406 0.20759957 0.20011044\n",
      " 0.19998577 0.19529595 0.19519959 0.19426011 0.19071376 0.1905076\n",
      " 0.18937929 0.18928198 0.18072368 0.18010145 0.17484596 0.17288934\n",
      " 0.16815483 0.16707051 0.16545161 0.163801   0.16362485 0.16355696\n",
      " 0.16195803 0.16081594 0.1556857  0.15512986 0.14976145 0.14748159\n",
      " 0.1382135  0.13739157 0.13558594 0.13513529 0.13289373 0.13225993\n",
      " 0.13055134 0.12945801 0.12859496 0.12845237 0.12783631 0.12727712\n",
      " 0.12640914 0.12571401 0.12559726 0.12420618 0.12399715 0.12360781\n",
      " 0.12334198 0.12005332 0.12004478 0.11699093 0.11697436 0.11692976\n",
      " 0.11675123 0.11598052 0.1158834  0.11464758 0.11456499 0.11424824\n",
      " 0.11397291 0.1021502  0.10204902 0.10092122 0.10028603 0.09702791\n",
      " 0.09693875 0.09453511 0.09441697 0.09198926 0.09124506 0.08933558\n",
      " 0.08926705 0.08920989 0.08917141 0.08861344 0.0885171  0.0867788\n",
      " 0.08627482 0.08254358 0.08245173 0.07974035 0.07966185 0.07767883\n",
      " 0.0776072  0.07416408 0.07308926 0.07280201 0.07236587 0.07178805\n",
      " 0.0716723  0.07130207 0.07112926 0.07014704 0.07003565 0.06860214\n",
      " 0.06826878 0.06655331 0.06633966 0.06622262 0.0661677  0.06557506\n",
      " 0.06537575 0.05942441 0.05938305 0.05932215 0.05902058 0.05740221\n",
      " 0.0573656  0.05594329 0.05584035 0.05092623 0.05081669 0.04999444\n",
      " 0.04987219 0.04983623 0.0491511  0.04882319 0.04880411 0.046326\n",
      " 0.04624414 0.04522502 0.04391884 0.04338629 0.0432812  0.04325205\n",
      " 0.0425878  0.04251336 0.04221129 0.04213304 0.04152371 0.04093263\n",
      " 0.0402608  0.03988829 0.0390582  0.03900322 0.03895717 0.03875617\n",
      " 0.03869637 0.0379272  0.03783923 0.03704178 0.03691904 0.03550754\n",
      " 0.03539722 0.03303055 0.03299773 0.03214967 0.03185677 0.03171348\n",
      " 0.03161581 0.03131044 0.03122254 0.03121863 0.02980804 0.02971741\n",
      " 0.02651098 0.02616026 0.02613654 0.02601199 0.02558229 0.02545089\n",
      " 0.02505054 0.02501541 0.02473923 0.02470332 0.02386721 0.0234763\n",
      " 0.02039293 0.02028428 0.01272049 0.01124344 0.00596567]\n"
     ]
    },
    {
     "data": {
      "image/png": "[encoded data removed]",
      "text/plain": [
       "<Figure size 432x288 with 1 Axes>"
      ]
     },
     "metadata": {
      "needs_background": "light"
     },
     "output_type": "display_data"
    }
   ],
   "source": [
    "probability = gb_clf.predict_proba(test_x)[:,1]\n",
    "probability\n",
    "fpr,tpr,threshold = roc_curve(test_y,probability,pos_label=True)\n",
    "print(fpr)\n",
    "print(tpr)\n",
    "print(threshold)\n",
    "plt.plot([0,1],[1,0],'k--')\n",
    "plt.plot(fpr,tpr,label = \"GradientBoostClassifier\")\n",
    "plt.xlabel(\"False Positive rate\")\n",
    "plt.ylabel(\"True Positive rate\")\n",
    "plt.show()"
   ]
  },
  {
   "cell_type": "code",
   "execution_count": 49,
   "metadata": {},
   "outputs": [],
   "source": [
    "import pickle\n",
    "filename = 'E:\\\\python\\\\agriculture_prediction.pkl'\n",
    "pickle.dump(gb_clf,open(filename,'wb'))"
   ]
  },
  {
   "cell_type": "markdown",
   "metadata": {},
   "source": [
    "# Test data logic starts here "
   ]
  },
  {
   "cell_type": "code",
   "execution_count": 50,
   "metadata": {},
   "outputs": [],
   "source": [
    "read_test_file = pd.read_excel ('E:\\\\python\\\\test_agriculture.xlsx')\n",
    "read_test_file.to_csv ('E:\\\\python\\\\test_agriculture_converted.csv', index = None, header=True)\n",
    "\n",
    "#Here we have converted train input .xlsx files into .csv format and have loaded it."
   ]
  },
  {
   "cell_type": "code",
   "execution_count": 51,
   "metadata": {},
   "outputs": [
    {
     "data": {
      "text/plain": [
       "Index(['ID', 'Estimated_Insects_Count', 'Crop_Type', 'Soil_Type',\n",
       "       'Pesticide_Use_Category', 'Number_Doses_Week', 'Number_Weeks_Used',\n",
       "       'Number_Weeks_Quit', 'Season'],\n",
       "      dtype='object')"
      ]
     },
     "execution_count": 51,
     "metadata": {},
     "output_type": "execute_result"
    }
   ],
   "source": [
    "read_test_file.columns"
   ]
  },
  {
   "cell_type": "code",
   "execution_count": 52,
   "metadata": {},
   "outputs": [
    {
     "data": {
      "text/plain": [
       "ID                          object\n",
       "Estimated_Insects_Count      int64\n",
       "Crop_Type                    int64\n",
       "Soil_Type                    int64\n",
       "Pesticide_Use_Category       int64\n",
       "Number_Doses_Week            int64\n",
       "Number_Weeks_Used          float64\n",
       "Number_Weeks_Quit            int64\n",
       "Season                       int64\n",
       "dtype: object"
      ]
     },
     "execution_count": 52,
     "metadata": {},
     "output_type": "execute_result"
    }
   ],
   "source": [
    "read_test_file.dtypes"
   ]
  },
  {
   "cell_type": "code",
   "execution_count": 53,
   "metadata": {},
   "outputs": [
    {
     "data": {
      "text/plain": [
       "ID                           0\n",
       "Estimated_Insects_Count      0\n",
       "Crop_Type                    0\n",
       "Soil_Type                    0\n",
       "Pesticide_Use_Category       0\n",
       "Number_Doses_Week            0\n",
       "Number_Weeks_Used          119\n",
       "Number_Weeks_Quit            0\n",
       "Season                       0\n",
       "dtype: int64"
      ]
     },
     "execution_count": 53,
     "metadata": {},
     "output_type": "execute_result"
    }
   ],
   "source": [
    "read_test_file.isnull().sum()"
   ]
  },
  {
   "cell_type": "code",
   "execution_count": 54,
   "metadata": {},
   "outputs": [],
   "source": [
    "read_test_file['Number_Weeks_Used'] = read_test_file['Number_Weeks_Used'].fillna(read_test_file['Number_Weeks_Used'].mean())\n",
    "read_test_file['Number_Weeks_Used'] = read_test_file['Number_Weeks_Used'].apply(np.floor)"
   ]
  },
  {
   "cell_type": "code",
   "execution_count": 55,
   "metadata": {},
   "outputs": [
    {
     "data": {
      "text/plain": [
       "ID                         0\n",
       "Estimated_Insects_Count    0\n",
       "Crop_Type                  0\n",
       "Soil_Type                  0\n",
       "Pesticide_Use_Category     0\n",
       "Number_Doses_Week          0\n",
       "Number_Weeks_Used          0\n",
       "Number_Weeks_Quit          0\n",
       "Season                     0\n",
       "dtype: int64"
      ]
     },
     "execution_count": 55,
     "metadata": {},
     "output_type": "execute_result"
    }
   ],
   "source": [
    "read_test_file.isnull().sum()"
   ]
  },
  {
   "cell_type": "code",
   "execution_count": 56,
   "metadata": {},
   "outputs": [],
   "source": [
    "read_test_file.drop('ID',axis=1,inplace=True)"
   ]
  },
  {
   "cell_type": "code",
   "execution_count": 57,
   "metadata": {},
   "outputs": [
    {
     "data": {
      "text/html": [
       "<div>\n",
       "<style scoped>\n",
       "    .dataframe tbody tr th:only-of-type {\n",
       "        vertical-align: middle;\n",
       "    }\n",
       "\n",
       "    .dataframe tbody tr th {\n",
       "        vertical-align: top;\n",
       "    }\n",
       "\n",
       "    .dataframe thead th {\n",
       "        text-align: right;\n",
       "    }\n",
       "</style>\n",
       "<table border=\"1\" class=\"dataframe\">\n",
       "  <thead>\n",
       "    <tr style=\"text-align: right;\">\n",
       "      <th></th>\n",
       "      <th>Estimated_Insects_Count</th>\n",
       "      <th>Crop_Type</th>\n",
       "      <th>Soil_Type</th>\n",
       "      <th>Pesticide_Use_Category</th>\n",
       "      <th>Number_Doses_Week</th>\n",
       "      <th>Number_Weeks_Used</th>\n",
       "      <th>Number_Weeks_Quit</th>\n",
       "      <th>Season</th>\n",
       "    </tr>\n",
       "  </thead>\n",
       "  <tbody>\n",
       "    <tr>\n",
       "      <th>0</th>\n",
       "      <td>188</td>\n",
       "      <td>1</td>\n",
       "      <td>1</td>\n",
       "      <td>1</td>\n",
       "      <td>0</td>\n",
       "      <td>29.0</td>\n",
       "      <td>0</td>\n",
       "      <td>2</td>\n",
       "    </tr>\n",
       "    <tr>\n",
       "      <th>1</th>\n",
       "      <td>410</td>\n",
       "      <td>1</td>\n",
       "      <td>1</td>\n",
       "      <td>1</td>\n",
       "      <td>0</td>\n",
       "      <td>0.0</td>\n",
       "      <td>0</td>\n",
       "      <td>2</td>\n",
       "    </tr>\n",
       "    <tr>\n",
       "      <th>2</th>\n",
       "      <td>626</td>\n",
       "      <td>1</td>\n",
       "      <td>0</td>\n",
       "      <td>1</td>\n",
       "      <td>0</td>\n",
       "      <td>0.0</td>\n",
       "      <td>0</td>\n",
       "      <td>2</td>\n",
       "    </tr>\n",
       "    <tr>\n",
       "      <th>3</th>\n",
       "      <td>731</td>\n",
       "      <td>1</td>\n",
       "      <td>0</td>\n",
       "      <td>1</td>\n",
       "      <td>0</td>\n",
       "      <td>0.0</td>\n",
       "      <td>0</td>\n",
       "      <td>2</td>\n",
       "    </tr>\n",
       "    <tr>\n",
       "      <th>4</th>\n",
       "      <td>789</td>\n",
       "      <td>0</td>\n",
       "      <td>0</td>\n",
       "      <td>1</td>\n",
       "      <td>0</td>\n",
       "      <td>0.0</td>\n",
       "      <td>0</td>\n",
       "      <td>1</td>\n",
       "    </tr>\n",
       "  </tbody>\n",
       "</table>\n",
       "</div>"
      ],
      "text/plain": [
       "   Estimated_Insects_Count  Crop_Type  Soil_Type  Pesticide_Use_Category  \\\n",
       "0                      188          1          1                       1   \n",
       "1                      410          1          1                       1   \n",
       "2                      626          1          0                       1   \n",
       "3                      731          1          0                       1   \n",
       "4                      789          0          0                       1   \n",
       "\n",
       "   Number_Doses_Week  Number_Weeks_Used  Number_Weeks_Quit  Season  \n",
       "0                  0               29.0                  0       2  \n",
       "1                  0                0.0                  0       2  \n",
       "2                  0                0.0                  0       2  \n",
       "3                  0                0.0                  0       2  \n",
       "4                  0                0.0                  0       1  "
      ]
     },
     "execution_count": 57,
     "metadata": {},
     "output_type": "execute_result"
    }
   ],
   "source": [
    "read_test_file.head()"
   ]
  },
  {
   "cell_type": "code",
   "execution_count": 58,
   "metadata": {},
   "outputs": [],
   "source": [
    "fitted_model = pickle.load(open(filename,'rb'))"
   ]
  },
  {
   "cell_type": "code",
   "execution_count": 59,
   "metadata": {},
   "outputs": [
    {
     "data": {
      "text/plain": [
       "GradientBoostingClassifier(learning_rate=0.5, max_depth=2, max_features=2,\n",
       "                           n_estimators=50, random_state=71)"
      ]
     },
     "execution_count": 59,
     "metadata": {},
     "output_type": "execute_result"
    }
   ],
   "source": [
    "fitted_model"
   ]
  },
  {
   "cell_type": "code",
   "execution_count": 60,
   "metadata": {},
   "outputs": [],
   "source": [
    "test_prediction = fitted_model.predict(read_test_file)"
   ]
  },
  {
   "cell_type": "code",
   "execution_count": 61,
   "metadata": {},
   "outputs": [
    {
     "data": {
      "text/plain": [
       "array([1, 1, 1, ..., 0, 0, 0], dtype=int64)"
      ]
     },
     "execution_count": 61,
     "metadata": {},
     "output_type": "execute_result"
    }
   ],
   "source": [
    "test_prediction"
   ]
  },
  {
   "cell_type": "code",
   "execution_count": 62,
   "metadata": {},
   "outputs": [],
   "source": [
    "test_prediction_file = pd.DataFrame(test_prediction)"
   ]
  },
  {
   "cell_type": "code",
   "execution_count": 63,
   "metadata": {},
   "outputs": [],
   "source": [
    "test_prediction_file.to_csv(\"E:\\\\python\\\\agriculture_prediction.csv\",header=0)"
   ]
  },
  {
   "cell_type": "code",
   "execution_count": null,
   "metadata": {},
   "outputs": [],
   "source": []
  }
 ],
 "metadata": {
  "kernelspec": {
   "display_name": "Python 3",
   "language": "python",
   "name": "python3"
  },
  "language_info": {
   "codemirror_mode": {
    "name": "ipython",
    "version": 3
   },
   "file_extension": ".py",
   "mimetype": "text/x-python",
   "name": "python",
   "nbconvert_exporter": "python",
   "pygments_lexer": "ipython3",
   "version": "3.8.5"
  }
 },
 "nbformat": 4,
 "nbformat_minor": 4
}
